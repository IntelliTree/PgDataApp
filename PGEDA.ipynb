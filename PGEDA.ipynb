{
 "cells": [
  {
   "cell_type": "code",
   "execution_count": 148,
   "metadata": {},
   "outputs": [
    {
     "data": {
      "text/html": [
       "<script>requirejs.config({paths: { 'plotly': ['https://cdn.plot.ly/plotly-latest.min']},});if(!window.Plotly) {{require(['plotly'],function(plotly) {window.Plotly=plotly;});}}</script>"
      ],
      "text/vnd.plotly.v1+html": [
       "<script>requirejs.config({paths: { 'plotly': ['https://cdn.plot.ly/plotly-latest.min']},});if(!window.Plotly) {{require(['plotly'],function(plotly) {window.Plotly=plotly;});}}</script>"
      ]
     },
     "metadata": {},
     "output_type": "display_data"
    }
   ],
   "source": [
    "import nltk\n",
    "import numpy as np # linear algebra\n",
    "import pandas as pd # data processing, CSV file I/O (e.g. pd.read_csv)\n",
    "import matplotlib.pyplot as plt\n",
    "import seaborn as sns\n",
    "%matplotlib inline\n",
    "import plotly.offline as py\n",
    "import plotly.graph_objs as go\n",
    "#import plotly.plotly as py\n",
    "from plotly import __version__\n",
    "from plotly.offline import download_plotlyjs, init_notebook_mode, plot, iplot\n",
    "py.init_notebook_mode(connected=True)"
   ]
  },
  {
   "cell_type": "code",
   "execution_count": 9,
   "metadata": {},
   "outputs": [],
   "source": [
    "df = pd.read_excel('Complaint Reports/Mr Clean Complaints.xlsx', sheetname = 'CC Listing')"
   ]
  },
  {
   "cell_type": "code",
   "execution_count": 10,
   "metadata": {},
   "outputs": [
    {
     "data": {
      "text/html": [
       "<div>\n",
       "<style>\n",
       "    .dataframe thead tr:only-child th {\n",
       "        text-align: right;\n",
       "    }\n",
       "\n",
       "    .dataframe thead th {\n",
       "        text-align: left;\n",
       "    }\n",
       "\n",
       "    .dataframe tbody tr th {\n",
       "        vertical-align: top;\n",
       "    }\n",
       "</style>\n",
       "<table border=\"1\" class=\"dataframe\">\n",
       "  <thead>\n",
       "    <tr style=\"text-align: right;\">\n",
       "      <th></th>\n",
       "      <th>Initial Receipt Date</th>\n",
       "      <th>Case Contact Method</th>\n",
       "      <th>Summary</th>\n",
       "      <th>Case Region</th>\n",
       "      <th>Case Country</th>\n",
       "      <th>Sector</th>\n",
       "      <th>Sub Sector</th>\n",
       "      <th>Category</th>\n",
       "      <th>Brand</th>\n",
       "      <th>Segment</th>\n",
       "      <th>...</th>\n",
       "      <th>City</th>\n",
       "      <th>State Province</th>\n",
       "      <th>Global Comment Path</th>\n",
       "      <th>L1 Comment Code/Comment Type</th>\n",
       "      <th>L2 Comment Code/Comment Category</th>\n",
       "      <th>L3 Comment Code/Comment Description</th>\n",
       "      <th>Comment Criticality</th>\n",
       "      <th>Conclusion Code</th>\n",
       "      <th>Store of Purchase</th>\n",
       "      <th>Complaint Metric</th>\n",
       "    </tr>\n",
       "  </thead>\n",
       "  <tbody>\n",
       "    <tr>\n",
       "      <th>0</th>\n",
       "      <td>2015-12-01</td>\n",
       "      <td>Phone</td>\n",
       "      <td>I bought a bottle of the Mr Clean Magic Eraser...</td>\n",
       "      <td>NaN</td>\n",
       "      <td>UNITED STATES</td>\n",
       "      <td>Fabric &amp; Home Care</td>\n",
       "      <td>Home Care</td>\n",
       "      <td>Surface Care</td>\n",
       "      <td>Mr Clean</td>\n",
       "      <td>Cleaning Products</td>\n",
       "      <td>...</td>\n",
       "      <td>CLEVELAND</td>\n",
       "      <td>OH</td>\n",
       "      <td>Product Quality Complaint/Sensory attributes/F...</td>\n",
       "      <td>Product Quality Complaint</td>\n",
       "      <td>Sensory attributes</td>\n",
       "      <td>Feel, texture, consistency; too thin, watery</td>\n",
       "      <td>Non-Critical</td>\n",
       "      <td>NaN</td>\n",
       "      <td>Walmart</td>\n",
       "      <td>1</td>\n",
       "    </tr>\n",
       "    <tr>\n",
       "      <th>1</th>\n",
       "      <td>2015-12-01</td>\n",
       "      <td>Phone</td>\n",
       "      <td>I recently bought two bottles of the Mr. Clean...</td>\n",
       "      <td>NaN</td>\n",
       "      <td>UNITED STATES</td>\n",
       "      <td>Fabric &amp; Home Care</td>\n",
       "      <td>Home Care</td>\n",
       "      <td>Surface Care</td>\n",
       "      <td>Mr Clean</td>\n",
       "      <td>Cleaning Products</td>\n",
       "      <td>...</td>\n",
       "      <td>BUFFALO</td>\n",
       "      <td>NY</td>\n",
       "      <td>Product Quality Complaint/Sensory attributes/S...</td>\n",
       "      <td>Product Quality Complaint</td>\n",
       "      <td>Sensory attributes</td>\n",
       "      <td>Smell, scent, aroma, odor</td>\n",
       "      <td>Non-Critical</td>\n",
       "      <td>Incorrect data input at intake, data corrected</td>\n",
       "      <td>Family Dollar</td>\n",
       "      <td>1</td>\n",
       "    </tr>\n",
       "    <tr>\n",
       "      <th>2</th>\n",
       "      <td>2015-12-01</td>\n",
       "      <td>Phone</td>\n",
       "      <td>I called 2 and a half months ago about 6 bottl...</td>\n",
       "      <td>NaN</td>\n",
       "      <td>UNITED STATES</td>\n",
       "      <td>Fabric &amp; Home Care</td>\n",
       "      <td>Home Care</td>\n",
       "      <td>Surface Care</td>\n",
       "      <td>Mr Clean</td>\n",
       "      <td>Cleaning Products</td>\n",
       "      <td>...</td>\n",
       "      <td>ROANOKE</td>\n",
       "      <td>VA</td>\n",
       "      <td>Product Quality Complaint/Sensory attributes/S...</td>\n",
       "      <td>Product Quality Complaint</td>\n",
       "      <td>Sensory attributes</td>\n",
       "      <td>Smell, scent, aroma, odor</td>\n",
       "      <td>Non-Critical</td>\n",
       "      <td>NaN</td>\n",
       "      <td>Sams Club</td>\n",
       "      <td>1</td>\n",
       "    </tr>\n",
       "    <tr>\n",
       "      <th>3</th>\n",
       "      <td>2015-12-01</td>\n",
       "      <td>Phone</td>\n",
       "      <td>I have a bottle of the Mr Clean Multipurpose L...</td>\n",
       "      <td>NaN</td>\n",
       "      <td>CANADA</td>\n",
       "      <td>Fabric &amp; Home Care</td>\n",
       "      <td>Home Care</td>\n",
       "      <td>Surface Care</td>\n",
       "      <td>Mr Clean</td>\n",
       "      <td>Cleaning Products</td>\n",
       "      <td>...</td>\n",
       "      <td>EDMONTON</td>\n",
       "      <td>AB</td>\n",
       "      <td>Product Quality Complaint/Sensory attributes/F...</td>\n",
       "      <td>Product Quality Complaint</td>\n",
       "      <td>Sensory attributes</td>\n",
       "      <td>Feel, texture, consistency</td>\n",
       "      <td>Non-Critical</td>\n",
       "      <td>NaN</td>\n",
       "      <td>Walmart</td>\n",
       "      <td>1</td>\n",
       "    </tr>\n",
       "    <tr>\n",
       "      <th>4</th>\n",
       "      <td>2015-12-01</td>\n",
       "      <td>Phone</td>\n",
       "      <td>I bought the Mr. Clean Multi-Purpose and the M...</td>\n",
       "      <td>NaN</td>\n",
       "      <td>UNITED STATES</td>\n",
       "      <td>Fabric &amp; Home Care</td>\n",
       "      <td>Home Care</td>\n",
       "      <td>Surface Care</td>\n",
       "      <td>Mr Clean</td>\n",
       "      <td>Cleaning Products</td>\n",
       "      <td>...</td>\n",
       "      <td>TURLOCK</td>\n",
       "      <td>CA</td>\n",
       "      <td>Product Quality Complaint/Dissatisfied with pe...</td>\n",
       "      <td>Product Quality Complaint</td>\n",
       "      <td>Dissatisfied with performance</td>\n",
       "      <td>Suds</td>\n",
       "      <td>Non-Critical</td>\n",
       "      <td>NaN</td>\n",
       "      <td>Home Depot</td>\n",
       "      <td>1</td>\n",
       "    </tr>\n",
       "  </tbody>\n",
       "</table>\n",
       "<p>5 rows × 35 columns</p>\n",
       "</div>"
      ],
      "text/plain": [
       "  Initial Receipt Date Case Contact Method  \\\n",
       "0           2015-12-01               Phone   \n",
       "1           2015-12-01               Phone   \n",
       "2           2015-12-01               Phone   \n",
       "3           2015-12-01               Phone   \n",
       "4           2015-12-01               Phone   \n",
       "\n",
       "                                             Summary  Case Region  \\\n",
       "0  I bought a bottle of the Mr Clean Magic Eraser...          NaN   \n",
       "1  I recently bought two bottles of the Mr. Clean...          NaN   \n",
       "2  I called 2 and a half months ago about 6 bottl...          NaN   \n",
       "3  I have a bottle of the Mr Clean Multipurpose L...          NaN   \n",
       "4  I bought the Mr. Clean Multi-Purpose and the M...          NaN   \n",
       "\n",
       "    Case Country              Sector Sub Sector      Category     Brand  \\\n",
       "0  UNITED STATES  Fabric & Home Care  Home Care  Surface Care  Mr Clean   \n",
       "1  UNITED STATES  Fabric & Home Care  Home Care  Surface Care  Mr Clean   \n",
       "2  UNITED STATES  Fabric & Home Care  Home Care  Surface Care  Mr Clean   \n",
       "3         CANADA  Fabric & Home Care  Home Care  Surface Care  Mr Clean   \n",
       "4  UNITED STATES  Fabric & Home Care  Home Care  Surface Care  Mr Clean   \n",
       "\n",
       "             Segment       ...              City State Province  \\\n",
       "0  Cleaning Products       ...         CLEVELAND             OH   \n",
       "1  Cleaning Products       ...           BUFFALO             NY   \n",
       "2  Cleaning Products       ...           ROANOKE             VA   \n",
       "3  Cleaning Products       ...          EDMONTON             AB   \n",
       "4  Cleaning Products       ...           TURLOCK             CA   \n",
       "\n",
       "                                 Global Comment Path  \\\n",
       "0  Product Quality Complaint/Sensory attributes/F...   \n",
       "1  Product Quality Complaint/Sensory attributes/S...   \n",
       "2  Product Quality Complaint/Sensory attributes/S...   \n",
       "3  Product Quality Complaint/Sensory attributes/F...   \n",
       "4  Product Quality Complaint/Dissatisfied with pe...   \n",
       "\n",
       "  L1 Comment Code/Comment Type L2 Comment Code/Comment Category  \\\n",
       "0    Product Quality Complaint               Sensory attributes   \n",
       "1    Product Quality Complaint               Sensory attributes   \n",
       "2    Product Quality Complaint               Sensory attributes   \n",
       "3    Product Quality Complaint               Sensory attributes   \n",
       "4    Product Quality Complaint    Dissatisfied with performance   \n",
       "\n",
       "            L3 Comment Code/Comment Description Comment Criticality  \\\n",
       "0  Feel, texture, consistency; too thin, watery        Non-Critical   \n",
       "1                     Smell, scent, aroma, odor        Non-Critical   \n",
       "2                     Smell, scent, aroma, odor        Non-Critical   \n",
       "3                    Feel, texture, consistency        Non-Critical   \n",
       "4                                          Suds        Non-Critical   \n",
       "\n",
       "                                  Conclusion Code Store of Purchase  \\\n",
       "0                                             NaN           Walmart   \n",
       "1  Incorrect data input at intake, data corrected     Family Dollar   \n",
       "2                                             NaN         Sams Club   \n",
       "3                                             NaN           Walmart   \n",
       "4                                             NaN        Home Depot   \n",
       "\n",
       "  Complaint Metric  \n",
       "0                1  \n",
       "1                1  \n",
       "2                1  \n",
       "3                1  \n",
       "4                1  \n",
       "\n",
       "[5 rows x 35 columns]"
      ]
     },
     "execution_count": 10,
     "metadata": {},
     "output_type": "execute_result"
    }
   ],
   "source": [
    "df.head(5)"
   ]
  },
  {
   "cell_type": "code",
   "execution_count": null,
   "metadata": {
    "collapsed": true
   },
   "outputs": [],
   "source": [
    "df.drop('Product Form Detail',1,inplace=True)\n",
    "df.drop('Case Region', 1, inplace = True)\n",
    "df.drop('Sub Brand',1,inplace=True)\n",
    "df.drop('Collection',1,inplace=True)\n",
    "df.drop('Version',1,inplace=True)\n",
    "df.drop('Consumer Benefit 4',1,inplace=True)\n",
    "df.drop('Product Size',1,inplace=True)\n",
    "df.drop('Manufacturing Line',1,inplace=True)\n",
    "df.drop('Sector',1,inplace=True)\n",
    "df.drop('Sub Sector',1,inplace=True)\n",
    "df.drop('Brand',1,inplace=True)\n",
    "df.head(5)\n",
    "df.shape"
   ]
  },
  {
   "cell_type": "code",
   "execution_count": 53,
   "metadata": {},
   "outputs": [
    {
     "data": {
      "text/plain": [
       "(992, 25)"
      ]
     },
     "execution_count": 53,
     "metadata": {},
     "output_type": "execute_result"
    }
   ],
   "source": [
    "df.shape"
   ]
  },
  {
   "cell_type": "code",
   "execution_count": 54,
   "metadata": {},
   "outputs": [
    {
     "data": {
      "text/html": [
       "<div>\n",
       "<style>\n",
       "    .dataframe thead tr:only-child th {\n",
       "        text-align: right;\n",
       "    }\n",
       "\n",
       "    .dataframe thead th {\n",
       "        text-align: left;\n",
       "    }\n",
       "\n",
       "    .dataframe tbody tr th {\n",
       "        vertical-align: top;\n",
       "    }\n",
       "</style>\n",
       "<table border=\"1\" class=\"dataframe\">\n",
       "  <thead>\n",
       "    <tr style=\"text-align: right;\">\n",
       "      <th></th>\n",
       "      <th>Initial Receipt Date</th>\n",
       "      <th>Case Contact Method</th>\n",
       "      <th>Summary</th>\n",
       "      <th>Case Country</th>\n",
       "      <th>Category</th>\n",
       "      <th>Segment</th>\n",
       "      <th>Product Form Detail</th>\n",
       "      <th>Flavor Scent Detail</th>\n",
       "      <th>Consumer Benefit 1</th>\n",
       "      <th>Consumer Benefit 2</th>\n",
       "      <th>...</th>\n",
       "      <th>City</th>\n",
       "      <th>State Province</th>\n",
       "      <th>Global Comment Path</th>\n",
       "      <th>L1 Comment Code/Comment Type</th>\n",
       "      <th>L2 Comment Code/Comment Category</th>\n",
       "      <th>L3 Comment Code/Comment Description</th>\n",
       "      <th>Comment Criticality</th>\n",
       "      <th>Conclusion Code</th>\n",
       "      <th>Store of Purchase</th>\n",
       "      <th>Complaint Metric</th>\n",
       "    </tr>\n",
       "  </thead>\n",
       "  <tbody>\n",
       "    <tr>\n",
       "      <th>0</th>\n",
       "      <td>2015-12-01</td>\n",
       "      <td>Phone</td>\n",
       "      <td>I bought a bottle of the Mr Clean Magic Eraser...</td>\n",
       "      <td>UNITED STATES</td>\n",
       "      <td>Surface Care</td>\n",
       "      <td>Cleaning Products</td>\n",
       "      <td>Liquid</td>\n",
       "      <td>Apple Berry Twist</td>\n",
       "      <td>All Purpose</td>\n",
       "      <td>Regular</td>\n",
       "      <td>...</td>\n",
       "      <td>CLEVELAND</td>\n",
       "      <td>OH</td>\n",
       "      <td>Product Quality Complaint/Sensory attributes/F...</td>\n",
       "      <td>Product Quality Complaint</td>\n",
       "      <td>Sensory attributes</td>\n",
       "      <td>Feel, texture, consistency; too thin, watery</td>\n",
       "      <td>Non-Critical</td>\n",
       "      <td>NaN</td>\n",
       "      <td>Walmart</td>\n",
       "      <td>1</td>\n",
       "    </tr>\n",
       "    <tr>\n",
       "      <th>1</th>\n",
       "      <td>2015-12-01</td>\n",
       "      <td>Phone</td>\n",
       "      <td>I recently bought two bottles of the Mr. Clean...</td>\n",
       "      <td>UNITED STATES</td>\n",
       "      <td>Surface Care</td>\n",
       "      <td>Cleaning Products</td>\n",
       "      <td>Liquid</td>\n",
       "      <td>Meadows &amp; Rain</td>\n",
       "      <td>All Purpose</td>\n",
       "      <td>Regular</td>\n",
       "      <td>...</td>\n",
       "      <td>BUFFALO</td>\n",
       "      <td>NY</td>\n",
       "      <td>Product Quality Complaint/Sensory attributes/S...</td>\n",
       "      <td>Product Quality Complaint</td>\n",
       "      <td>Sensory attributes</td>\n",
       "      <td>Smell, scent, aroma, odor</td>\n",
       "      <td>Non-Critical</td>\n",
       "      <td>Incorrect data input at intake, data corrected</td>\n",
       "      <td>Family Dollar</td>\n",
       "      <td>1</td>\n",
       "    </tr>\n",
       "    <tr>\n",
       "      <th>2</th>\n",
       "      <td>2015-12-01</td>\n",
       "      <td>Phone</td>\n",
       "      <td>I called 2 and a half months ago about 6 bottl...</td>\n",
       "      <td>UNITED STATES</td>\n",
       "      <td>Surface Care</td>\n",
       "      <td>Cleaning Products</td>\n",
       "      <td>Liquid</td>\n",
       "      <td>Meadows &amp; Rain</td>\n",
       "      <td>All Purpose</td>\n",
       "      <td>Regular</td>\n",
       "      <td>...</td>\n",
       "      <td>ROANOKE</td>\n",
       "      <td>VA</td>\n",
       "      <td>Product Quality Complaint/Sensory attributes/S...</td>\n",
       "      <td>Product Quality Complaint</td>\n",
       "      <td>Sensory attributes</td>\n",
       "      <td>Smell, scent, aroma, odor</td>\n",
       "      <td>Non-Critical</td>\n",
       "      <td>NaN</td>\n",
       "      <td>Sams Club</td>\n",
       "      <td>1</td>\n",
       "    </tr>\n",
       "    <tr>\n",
       "      <th>3</th>\n",
       "      <td>2015-12-01</td>\n",
       "      <td>Phone</td>\n",
       "      <td>I have a bottle of the Mr Clean Multipurpose L...</td>\n",
       "      <td>CANADA</td>\n",
       "      <td>Surface Care</td>\n",
       "      <td>Cleaning Products</td>\n",
       "      <td>Liquid</td>\n",
       "      <td>Summer Citrus</td>\n",
       "      <td>All Purpose</td>\n",
       "      <td>Anti-Bacterial</td>\n",
       "      <td>...</td>\n",
       "      <td>EDMONTON</td>\n",
       "      <td>AB</td>\n",
       "      <td>Product Quality Complaint/Sensory attributes/F...</td>\n",
       "      <td>Product Quality Complaint</td>\n",
       "      <td>Sensory attributes</td>\n",
       "      <td>Feel, texture, consistency</td>\n",
       "      <td>Non-Critical</td>\n",
       "      <td>NaN</td>\n",
       "      <td>Walmart</td>\n",
       "      <td>1</td>\n",
       "    </tr>\n",
       "    <tr>\n",
       "      <th>4</th>\n",
       "      <td>2015-12-01</td>\n",
       "      <td>Phone</td>\n",
       "      <td>I bought the Mr. Clean Multi-Purpose and the M...</td>\n",
       "      <td>UNITED STATES</td>\n",
       "      <td>Surface Care</td>\n",
       "      <td>Cleaning Products</td>\n",
       "      <td>Liquid</td>\n",
       "      <td>Meadows &amp; Rain</td>\n",
       "      <td>All Purpose</td>\n",
       "      <td>Regular</td>\n",
       "      <td>...</td>\n",
       "      <td>TURLOCK</td>\n",
       "      <td>CA</td>\n",
       "      <td>Product Quality Complaint/Dissatisfied with pe...</td>\n",
       "      <td>Product Quality Complaint</td>\n",
       "      <td>Dissatisfied with performance</td>\n",
       "      <td>Suds</td>\n",
       "      <td>Non-Critical</td>\n",
       "      <td>NaN</td>\n",
       "      <td>Home Depot</td>\n",
       "      <td>1</td>\n",
       "    </tr>\n",
       "  </tbody>\n",
       "</table>\n",
       "<p>5 rows × 25 columns</p>\n",
       "</div>"
      ],
      "text/plain": [
       "  Initial Receipt Date Case Contact Method  \\\n",
       "0           2015-12-01               Phone   \n",
       "1           2015-12-01               Phone   \n",
       "2           2015-12-01               Phone   \n",
       "3           2015-12-01               Phone   \n",
       "4           2015-12-01               Phone   \n",
       "\n",
       "                                             Summary   Case Country  \\\n",
       "0  I bought a bottle of the Mr Clean Magic Eraser...  UNITED STATES   \n",
       "1  I recently bought two bottles of the Mr. Clean...  UNITED STATES   \n",
       "2  I called 2 and a half months ago about 6 bottl...  UNITED STATES   \n",
       "3  I have a bottle of the Mr Clean Multipurpose L...         CANADA   \n",
       "4  I bought the Mr. Clean Multi-Purpose and the M...  UNITED STATES   \n",
       "\n",
       "       Category            Segment Product Form Detail Flavor Scent Detail  \\\n",
       "0  Surface Care  Cleaning Products              Liquid   Apple Berry Twist   \n",
       "1  Surface Care  Cleaning Products              Liquid      Meadows & Rain   \n",
       "2  Surface Care  Cleaning Products              Liquid      Meadows & Rain   \n",
       "3  Surface Care  Cleaning Products              Liquid       Summer Citrus   \n",
       "4  Surface Care  Cleaning Products              Liquid      Meadows & Rain   \n",
       "\n",
       "  Consumer Benefit 1 Consumer Benefit 2       ...              City  \\\n",
       "0        All Purpose            Regular       ...         CLEVELAND   \n",
       "1        All Purpose            Regular       ...           BUFFALO   \n",
       "2        All Purpose            Regular       ...           ROANOKE   \n",
       "3        All Purpose     Anti-Bacterial       ...          EDMONTON   \n",
       "4        All Purpose            Regular       ...           TURLOCK   \n",
       "\n",
       "  State Province                                Global Comment Path  \\\n",
       "0             OH  Product Quality Complaint/Sensory attributes/F...   \n",
       "1             NY  Product Quality Complaint/Sensory attributes/S...   \n",
       "2             VA  Product Quality Complaint/Sensory attributes/S...   \n",
       "3             AB  Product Quality Complaint/Sensory attributes/F...   \n",
       "4             CA  Product Quality Complaint/Dissatisfied with pe...   \n",
       "\n",
       "  L1 Comment Code/Comment Type L2 Comment Code/Comment Category  \\\n",
       "0    Product Quality Complaint               Sensory attributes   \n",
       "1    Product Quality Complaint               Sensory attributes   \n",
       "2    Product Quality Complaint               Sensory attributes   \n",
       "3    Product Quality Complaint               Sensory attributes   \n",
       "4    Product Quality Complaint    Dissatisfied with performance   \n",
       "\n",
       "            L3 Comment Code/Comment Description Comment Criticality  \\\n",
       "0  Feel, texture, consistency; too thin, watery        Non-Critical   \n",
       "1                     Smell, scent, aroma, odor        Non-Critical   \n",
       "2                     Smell, scent, aroma, odor        Non-Critical   \n",
       "3                    Feel, texture, consistency        Non-Critical   \n",
       "4                                          Suds        Non-Critical   \n",
       "\n",
       "                                  Conclusion Code Store of Purchase  \\\n",
       "0                                             NaN           Walmart   \n",
       "1  Incorrect data input at intake, data corrected     Family Dollar   \n",
       "2                                             NaN         Sams Club   \n",
       "3                                             NaN           Walmart   \n",
       "4                                             NaN        Home Depot   \n",
       "\n",
       "  Complaint Metric  \n",
       "0                1  \n",
       "1                1  \n",
       "2                1  \n",
       "3                1  \n",
       "4                1  \n",
       "\n",
       "[5 rows x 25 columns]"
      ]
     },
     "execution_count": 54,
     "metadata": {},
     "output_type": "execute_result"
    }
   ],
   "source": [
    "df.head(5)"
   ]
  },
  {
   "cell_type": "code",
   "execution_count": 86,
   "metadata": {},
   "outputs": [],
   "source": [
    "#sns.countplot(x='Case Contact Method',data=df)"
   ]
  },
  {
   "cell_type": "code",
   "execution_count": 63,
   "metadata": {},
   "outputs": [
    {
     "data": {
      "application/vnd.plotly.v1+json": {
       "data": [
        {
         "marker": {
          "color": "rgba(255, 153, 51, 0.6)",
          "line": {
           "color": "rgba(255, 153, 51, 1.0)",
           "width": 1
          }
         },
         "name": "Case Contact Method",
         "orientation": "v",
         "text": "",
         "type": "bar",
         "x": [
          "Phone",
          "Email",
          "Letter",
          "Social Media"
         ],
         "y": [
          898,
          87,
          6,
          1
         ]
        }
       ],
       "layout": {
        "legend": {
         "bgcolor": "#F5F6F9",
         "font": {
          "color": "#4D5663"
         }
        },
        "paper_bgcolor": "#F5F6F9",
        "plot_bgcolor": "#F5F6F9",
        "title": "Contact Method",
        "titlefont": {
         "color": "#4D5663"
        },
        "xaxis1": {
         "gridcolor": "#E1E5ED",
         "showgrid": true,
         "tickfont": {
          "color": "#4D5663"
         },
         "title": "",
         "titlefont": {
          "color": "#4D5663"
         },
         "zerolinecolor": "#E1E5ED"
        },
        "yaxis1": {
         "gridcolor": "#E1E5ED",
         "showgrid": true,
         "tickfont": {
          "color": "#4D5663"
         },
         "title": "Count",
         "titlefont": {
          "color": "#4D5663"
         },
         "zerolinecolor": "#E1E5ED"
        }
       }
      },
      "text/html": [
       "<div id=\"9c0b26f0-00c8-4c64-8e93-287e2239a6f8\" style=\"height: 525px; width: 100%;\" class=\"plotly-graph-div\"></div><script type=\"text/javascript\">require([\"plotly\"], function(Plotly) { window.PLOTLYENV=window.PLOTLYENV || {};window.PLOTLYENV.BASE_URL=\"https://plot.ly\";Plotly.newPlot(\"9c0b26f0-00c8-4c64-8e93-287e2239a6f8\", [{\"type\": \"bar\", \"x\": [\"Phone\", \"Email\", \"Letter\", \"Social Media\"], \"y\": [898, 87, 6, 1], \"name\": \"Case Contact Method\", \"text\": \"\", \"marker\": {\"color\": \"rgba(255, 153, 51, 0.6)\", \"line\": {\"color\": \"rgba(255, 153, 51, 1.0)\", \"width\": 1}}, \"orientation\": \"v\"}], {\"legend\": {\"bgcolor\": \"#F5F6F9\", \"font\": {\"color\": \"#4D5663\"}}, \"paper_bgcolor\": \"#F5F6F9\", \"plot_bgcolor\": \"#F5F6F9\", \"yaxis1\": {\"tickfont\": {\"color\": \"#4D5663\"}, \"gridcolor\": \"#E1E5ED\", \"titlefont\": {\"color\": \"#4D5663\"}, \"zerolinecolor\": \"#E1E5ED\", \"showgrid\": true, \"title\": \"Count\"}, \"xaxis1\": {\"tickfont\": {\"color\": \"#4D5663\"}, \"gridcolor\": \"#E1E5ED\", \"titlefont\": {\"color\": \"#4D5663\"}, \"zerolinecolor\": \"#E1E5ED\", \"showgrid\": true, \"title\": \"\"}, \"titlefont\": {\"color\": \"#4D5663\"}, \"title\": \"Contact Method\"}, {\"showLink\": true, \"linkText\": \"Export to plot.ly\"})});</script>"
      ],
      "text/vnd.plotly.v1+html": [
       "<div id=\"9c0b26f0-00c8-4c64-8e93-287e2239a6f8\" style=\"height: 525px; width: 100%;\" class=\"plotly-graph-div\"></div><script type=\"text/javascript\">require([\"plotly\"], function(Plotly) { window.PLOTLYENV=window.PLOTLYENV || {};window.PLOTLYENV.BASE_URL=\"https://plot.ly\";Plotly.newPlot(\"9c0b26f0-00c8-4c64-8e93-287e2239a6f8\", [{\"type\": \"bar\", \"x\": [\"Phone\", \"Email\", \"Letter\", \"Social Media\"], \"y\": [898, 87, 6, 1], \"name\": \"Case Contact Method\", \"text\": \"\", \"marker\": {\"color\": \"rgba(255, 153, 51, 0.6)\", \"line\": {\"color\": \"rgba(255, 153, 51, 1.0)\", \"width\": 1}}, \"orientation\": \"v\"}], {\"legend\": {\"bgcolor\": \"#F5F6F9\", \"font\": {\"color\": \"#4D5663\"}}, \"paper_bgcolor\": \"#F5F6F9\", \"plot_bgcolor\": \"#F5F6F9\", \"yaxis1\": {\"tickfont\": {\"color\": \"#4D5663\"}, \"gridcolor\": \"#E1E5ED\", \"titlefont\": {\"color\": \"#4D5663\"}, \"zerolinecolor\": \"#E1E5ED\", \"showgrid\": true, \"title\": \"Count\"}, \"xaxis1\": {\"tickfont\": {\"color\": \"#4D5663\"}, \"gridcolor\": \"#E1E5ED\", \"titlefont\": {\"color\": \"#4D5663\"}, \"zerolinecolor\": \"#E1E5ED\", \"showgrid\": true, \"title\": \"\"}, \"titlefont\": {\"color\": \"#4D5663\"}, \"title\": \"Contact Method\"}, {\"showLink\": true, \"linkText\": \"Export to plot.ly\"})});</script>"
      ]
     },
     "metadata": {},
     "output_type": "display_data"
    }
   ],
   "source": [
    "df['Case Contact Method'].value_counts().iplot(kind='bar', yTitle='Count', title='Contact Method')"
   ]
  },
  {
   "cell_type": "code",
   "execution_count": 85,
   "metadata": {},
   "outputs": [],
   "source": [
    "#sns.countplot(x='Case Country',data=df)"
   ]
  },
  {
   "cell_type": "code",
   "execution_count": 64,
   "metadata": {},
   "outputs": [
    {
     "data": {
      "text/plain": [
       "UNITED STATES    888\n",
       "CANADA           104\n",
       "Name: Case Country, dtype: int64"
      ]
     },
     "execution_count": 64,
     "metadata": {},
     "output_type": "execute_result"
    }
   ],
   "source": [
    "series = df['Case Country'].value_counts()[:20]\n",
    "series.head()"
   ]
  },
  {
   "cell_type": "code",
   "execution_count": 60,
   "metadata": {},
   "outputs": [
    {
     "data": {
      "application/vnd.plotly.v1+json": {
       "data": [
        {
         "marker": {
          "color": "rgba(255, 153, 51, 0.6)",
          "line": {
           "color": "rgba(255, 153, 51, 1.0)",
           "width": 1
          }
         },
         "name": "Case Country",
         "orientation": "v",
         "text": "",
         "type": "bar",
         "x": [
          "UNITED STATES",
          "CANADA"
         ],
         "y": [
          888,
          104
         ]
        }
       ],
       "layout": {
        "legend": {
         "bgcolor": "#F5F6F9",
         "font": {
          "color": "#4D5663"
         }
        },
        "paper_bgcolor": "#F5F6F9",
        "plot_bgcolor": "#F5F6F9",
        "title": "Complaints by Country",
        "titlefont": {
         "color": "#4D5663"
        },
        "xaxis1": {
         "gridcolor": "#E1E5ED",
         "showgrid": true,
         "tickfont": {
          "color": "#4D5663"
         },
         "title": "",
         "titlefont": {
          "color": "#4D5663"
         },
         "zerolinecolor": "#E1E5ED"
        },
        "yaxis1": {
         "gridcolor": "#E1E5ED",
         "showgrid": true,
         "tickfont": {
          "color": "#4D5663"
         },
         "title": "Count",
         "titlefont": {
          "color": "#4D5663"
         },
         "zerolinecolor": "#E1E5ED"
        }
       }
      },
      "text/html": [
       "<div id=\"eef6cb33-88fd-4aec-bc39-19c64977f1e6\" style=\"height: 525px; width: 100%;\" class=\"plotly-graph-div\"></div><script type=\"text/javascript\">require([\"plotly\"], function(Plotly) { window.PLOTLYENV=window.PLOTLYENV || {};window.PLOTLYENV.BASE_URL=\"https://plot.ly\";Plotly.newPlot(\"eef6cb33-88fd-4aec-bc39-19c64977f1e6\", [{\"type\": \"bar\", \"x\": [\"UNITED STATES\", \"CANADA\"], \"y\": [888, 104], \"name\": \"Case Country\", \"text\": \"\", \"marker\": {\"color\": \"rgba(255, 153, 51, 0.6)\", \"line\": {\"color\": \"rgba(255, 153, 51, 1.0)\", \"width\": 1}}, \"orientation\": \"v\"}], {\"legend\": {\"bgcolor\": \"#F5F6F9\", \"font\": {\"color\": \"#4D5663\"}}, \"paper_bgcolor\": \"#F5F6F9\", \"plot_bgcolor\": \"#F5F6F9\", \"yaxis1\": {\"tickfont\": {\"color\": \"#4D5663\"}, \"gridcolor\": \"#E1E5ED\", \"titlefont\": {\"color\": \"#4D5663\"}, \"zerolinecolor\": \"#E1E5ED\", \"showgrid\": true, \"title\": \"Count\"}, \"xaxis1\": {\"tickfont\": {\"color\": \"#4D5663\"}, \"gridcolor\": \"#E1E5ED\", \"titlefont\": {\"color\": \"#4D5663\"}, \"zerolinecolor\": \"#E1E5ED\", \"showgrid\": true, \"title\": \"\"}, \"titlefont\": {\"color\": \"#4D5663\"}, \"title\": \"Complaints by Country\"}, {\"showLink\": true, \"linkText\": \"Export to plot.ly\"})});</script>"
      ],
      "text/vnd.plotly.v1+html": [
       "<div id=\"eef6cb33-88fd-4aec-bc39-19c64977f1e6\" style=\"height: 525px; width: 100%;\" class=\"plotly-graph-div\"></div><script type=\"text/javascript\">require([\"plotly\"], function(Plotly) { window.PLOTLYENV=window.PLOTLYENV || {};window.PLOTLYENV.BASE_URL=\"https://plot.ly\";Plotly.newPlot(\"eef6cb33-88fd-4aec-bc39-19c64977f1e6\", [{\"type\": \"bar\", \"x\": [\"UNITED STATES\", \"CANADA\"], \"y\": [888, 104], \"name\": \"Case Country\", \"text\": \"\", \"marker\": {\"color\": \"rgba(255, 153, 51, 0.6)\", \"line\": {\"color\": \"rgba(255, 153, 51, 1.0)\", \"width\": 1}}, \"orientation\": \"v\"}], {\"legend\": {\"bgcolor\": \"#F5F6F9\", \"font\": {\"color\": \"#4D5663\"}}, \"paper_bgcolor\": \"#F5F6F9\", \"plot_bgcolor\": \"#F5F6F9\", \"yaxis1\": {\"tickfont\": {\"color\": \"#4D5663\"}, \"gridcolor\": \"#E1E5ED\", \"titlefont\": {\"color\": \"#4D5663\"}, \"zerolinecolor\": \"#E1E5ED\", \"showgrid\": true, \"title\": \"Count\"}, \"xaxis1\": {\"tickfont\": {\"color\": \"#4D5663\"}, \"gridcolor\": \"#E1E5ED\", \"titlefont\": {\"color\": \"#4D5663\"}, \"zerolinecolor\": \"#E1E5ED\", \"showgrid\": true, \"title\": \"\"}, \"titlefont\": {\"color\": \"#4D5663\"}, \"title\": \"Complaints by Country\"}, {\"showLink\": true, \"linkText\": \"Export to plot.ly\"})});</script>"
      ]
     },
     "metadata": {},
     "output_type": "display_data"
    }
   ],
   "source": [
    "series.iplot(kind='bar', yTitle='Count', title='Complaints by Country')"
   ]
  },
  {
   "cell_type": "code",
   "execution_count": 84,
   "metadata": {},
   "outputs": [],
   "source": [
    "#sns.countplot(x='Store of Purchase',data=df)"
   ]
  },
  {
   "cell_type": "code",
   "execution_count": 211,
   "metadata": {},
   "outputs": [],
   "source": [
    "# df.loc[739, 'Store of Purchase']"
   ]
  },
  {
   "cell_type": "code",
   "execution_count": 217,
   "metadata": {},
   "outputs": [
    {
     "data": {
      "application/vnd.plotly.v1+json": {
       "data": [
        {
         "marker": {
          "color": "rgba(255, 153, 51, 0.6)",
          "line": {
           "color": "rgba(255, 153, 51, 1.0)",
           "width": 1
          }
         },
         "name": "Store of Purchase",
         "orientation": "v",
         "text": "",
         "type": "bar",
         "x": [
          "Walmart",
          "Family Dollar",
          "Target",
          "Dollar General",
          "Home Depot",
          "Lowes",
          "Walgreens",
          "Costco",
          "Jewel Osco",
          "Shop Rite",
          "Krogers",
          "Publix",
          "Sam's Club",
          "Topps"
         ],
         "y": [
          359,
          47,
          47,
          37,
          27,
          17,
          12,
          8,
          8,
          7,
          7,
          6,
          6,
          5
         ]
        }
       ],
       "layout": {
        "legend": {
         "bgcolor": "#F5F6F9",
         "font": {
          "color": "#4D5663"
         }
        },
        "paper_bgcolor": "#F5F6F9",
        "plot_bgcolor": "#F5F6F9",
        "title": "Complaints by Store",
        "titlefont": {
         "color": "#4D5663"
        },
        "xaxis1": {
         "gridcolor": "#E1E5ED",
         "showgrid": true,
         "tickfont": {
          "color": "#4D5663"
         },
         "title": "",
         "titlefont": {
          "color": "#4D5663"
         },
         "zerolinecolor": "#E1E5ED"
        },
        "yaxis1": {
         "gridcolor": "#E1E5ED",
         "showgrid": true,
         "tickfont": {
          "color": "#4D5663"
         },
         "title": "Count",
         "titlefont": {
          "color": "#4D5663"
         },
         "zerolinecolor": "#E1E5ED"
        }
       }
      },
      "text/html": [
       "<div id=\"50d3175e-a05a-428b-a09a-a0a944c17a86\" style=\"height: 525px; width: 100%;\" class=\"plotly-graph-div\"></div><script type=\"text/javascript\">require([\"plotly\"], function(Plotly) { window.PLOTLYENV=window.PLOTLYENV || {};window.PLOTLYENV.BASE_URL=\"https://plot.ly\";Plotly.newPlot(\"50d3175e-a05a-428b-a09a-a0a944c17a86\", [{\"type\": \"bar\", \"x\": [\"Walmart\", \"Family Dollar\", \"Target\", \"Dollar General\", \"Home Depot\", \"Lowes\", \"Walgreens\", \"Costco\", \"Jewel Osco\", \"Shop Rite\", \"Krogers\", \"Publix\", \"Sam's Club\", \"Topps\"], \"y\": [359, 47, 47, 37, 27, 17, 12, 8, 8, 7, 7, 6, 6, 5], \"name\": \"Store of Purchase\", \"text\": \"\", \"marker\": {\"color\": \"rgba(255, 153, 51, 0.6)\", \"line\": {\"color\": \"rgba(255, 153, 51, 1.0)\", \"width\": 1}}, \"orientation\": \"v\"}], {\"legend\": {\"bgcolor\": \"#F5F6F9\", \"font\": {\"color\": \"#4D5663\"}}, \"paper_bgcolor\": \"#F5F6F9\", \"plot_bgcolor\": \"#F5F6F9\", \"yaxis1\": {\"tickfont\": {\"color\": \"#4D5663\"}, \"gridcolor\": \"#E1E5ED\", \"titlefont\": {\"color\": \"#4D5663\"}, \"zerolinecolor\": \"#E1E5ED\", \"showgrid\": true, \"title\": \"Count\"}, \"xaxis1\": {\"tickfont\": {\"color\": \"#4D5663\"}, \"gridcolor\": \"#E1E5ED\", \"titlefont\": {\"color\": \"#4D5663\"}, \"zerolinecolor\": \"#E1E5ED\", \"showgrid\": true, \"title\": \"\"}, \"titlefont\": {\"color\": \"#4D5663\"}, \"title\": \"Complaints by Store\"}, {\"showLink\": true, \"linkText\": \"Export to plot.ly\"})});</script>"
      ],
      "text/vnd.plotly.v1+html": [
       "<div id=\"50d3175e-a05a-428b-a09a-a0a944c17a86\" style=\"height: 525px; width: 100%;\" class=\"plotly-graph-div\"></div><script type=\"text/javascript\">require([\"plotly\"], function(Plotly) { window.PLOTLYENV=window.PLOTLYENV || {};window.PLOTLYENV.BASE_URL=\"https://plot.ly\";Plotly.newPlot(\"50d3175e-a05a-428b-a09a-a0a944c17a86\", [{\"type\": \"bar\", \"x\": [\"Walmart\", \"Family Dollar\", \"Target\", \"Dollar General\", \"Home Depot\", \"Lowes\", \"Walgreens\", \"Costco\", \"Jewel Osco\", \"Shop Rite\", \"Krogers\", \"Publix\", \"Sam's Club\", \"Topps\"], \"y\": [359, 47, 47, 37, 27, 17, 12, 8, 8, 7, 7, 6, 6, 5], \"name\": \"Store of Purchase\", \"text\": \"\", \"marker\": {\"color\": \"rgba(255, 153, 51, 0.6)\", \"line\": {\"color\": \"rgba(255, 153, 51, 1.0)\", \"width\": 1}}, \"orientation\": \"v\"}], {\"legend\": {\"bgcolor\": \"#F5F6F9\", \"font\": {\"color\": \"#4D5663\"}}, \"paper_bgcolor\": \"#F5F6F9\", \"plot_bgcolor\": \"#F5F6F9\", \"yaxis1\": {\"tickfont\": {\"color\": \"#4D5663\"}, \"gridcolor\": \"#E1E5ED\", \"titlefont\": {\"color\": \"#4D5663\"}, \"zerolinecolor\": \"#E1E5ED\", \"showgrid\": true, \"title\": \"Count\"}, \"xaxis1\": {\"tickfont\": {\"color\": \"#4D5663\"}, \"gridcolor\": \"#E1E5ED\", \"titlefont\": {\"color\": \"#4D5663\"}, \"zerolinecolor\": \"#E1E5ED\", \"showgrid\": true, \"title\": \"\"}, \"titlefont\": {\"color\": \"#4D5663\"}, \"title\": \"Complaints by Store\"}, {\"showLink\": true, \"linkText\": \"Export to plot.ly\"})});</script>"
      ]
     },
     "metadata": {},
     "output_type": "display_data"
    }
   ],
   "source": [
    "df.loc[739, 'Store of Purchase'] = 'Walmart'\n",
    "df.replace(to_replace='WaslMart', value='Walmart',inplace=True)\n",
    "df.replace(to_replace='walmart', value='Walmart',inplace=True)\n",
    "df.replace(to_replace='Wallgreens', value='Walgreens',inplace=True)\n",
    "df.replace(to_replace='WalMart', value='Walmart',inplace=True)\n",
    "df.replace(to_replace='Wal-Mart', value='Walmart',inplace=True)\n",
    "storeseries = df['Store of Purchase'].value_counts()\n",
    "storeseries[storeseries>=5].iplot(kind='bar', yTitle='Count', title='Complaints by Store')"
   ]
  },
  {
   "cell_type": "code",
   "execution_count": 212,
   "metadata": {},
   "outputs": [],
   "source": [
    "# df['Store of Purchase'].value_counts()"
   ]
  },
  {
   "cell_type": "code",
   "execution_count": 218,
   "metadata": {},
   "outputs": [],
   "source": [
    "# df['Store of Purchase'].value_counts().iplot(kind='bar', yTitle='Count', title='Store of Purchase')"
   ]
  },
  {
   "cell_type": "code",
   "execution_count": 82,
   "metadata": {},
   "outputs": [],
   "source": [
    "#sns.countplot(x='Flavor Scent Detail',data=df)"
   ]
  },
  {
   "cell_type": "code",
   "execution_count": 66,
   "metadata": {},
   "outputs": [
    {
     "data": {
      "application/vnd.plotly.v1+json": {
       "data": [
        {
         "marker": {
          "color": "rgba(255, 153, 51, 0.6)",
          "line": {
           "color": "rgba(255, 153, 51, 1.0)",
           "width": 1
          }
         },
         "name": "Flavor Scent Detail",
         "orientation": "v",
         "text": "",
         "type": "bar",
         "x": [
          "Meadows & Rain",
          "Gain",
          "Summer Citrus",
          "Hawaiian Aloha",
          "Apple Berry Twist",
          "-",
          "Lavender Vanilla & Comfort",
          "Citrus & Light",
          "Lavender",
          "Lemon",
          "New Zealand Springs",
          "Regular"
         ],
         "y": [
          374,
          221,
          182,
          46,
          45,
          30,
          28,
          25,
          17,
          17,
          3,
          1
         ]
        }
       ],
       "layout": {
        "legend": {
         "bgcolor": "#F5F6F9",
         "font": {
          "color": "#4D5663"
         }
        },
        "paper_bgcolor": "#F5F6F9",
        "plot_bgcolor": "#F5F6F9",
        "title": "Complaints by Flavor",
        "titlefont": {
         "color": "#4D5663"
        },
        "xaxis1": {
         "gridcolor": "#E1E5ED",
         "showgrid": true,
         "tickfont": {
          "color": "#4D5663"
         },
         "title": "",
         "titlefont": {
          "color": "#4D5663"
         },
         "zerolinecolor": "#E1E5ED"
        },
        "yaxis1": {
         "gridcolor": "#E1E5ED",
         "showgrid": true,
         "tickfont": {
          "color": "#4D5663"
         },
         "title": "Count",
         "titlefont": {
          "color": "#4D5663"
         },
         "zerolinecolor": "#E1E5ED"
        }
       }
      },
      "text/html": [
       "<div id=\"438f99f9-322c-4b92-9926-a21e7dbb2bb2\" style=\"height: 525px; width: 100%;\" class=\"plotly-graph-div\"></div><script type=\"text/javascript\">require([\"plotly\"], function(Plotly) { window.PLOTLYENV=window.PLOTLYENV || {};window.PLOTLYENV.BASE_URL=\"https://plot.ly\";Plotly.newPlot(\"438f99f9-322c-4b92-9926-a21e7dbb2bb2\", [{\"type\": \"bar\", \"x\": [\"Meadows & Rain\", \"Gain\", \"Summer Citrus\", \"Hawaiian Aloha\", \"Apple Berry Twist\", \"-\", \"Lavender Vanilla & Comfort\", \"Citrus & Light\", \"Lavender\", \"Lemon\", \"New Zealand Springs\", \"Regular\"], \"y\": [374, 221, 182, 46, 45, 30, 28, 25, 17, 17, 3, 1], \"name\": \"Flavor Scent Detail\", \"text\": \"\", \"marker\": {\"color\": \"rgba(255, 153, 51, 0.6)\", \"line\": {\"color\": \"rgba(255, 153, 51, 1.0)\", \"width\": 1}}, \"orientation\": \"v\"}], {\"legend\": {\"bgcolor\": \"#F5F6F9\", \"font\": {\"color\": \"#4D5663\"}}, \"paper_bgcolor\": \"#F5F6F9\", \"plot_bgcolor\": \"#F5F6F9\", \"yaxis1\": {\"tickfont\": {\"color\": \"#4D5663\"}, \"gridcolor\": \"#E1E5ED\", \"titlefont\": {\"color\": \"#4D5663\"}, \"zerolinecolor\": \"#E1E5ED\", \"showgrid\": true, \"title\": \"Count\"}, \"xaxis1\": {\"tickfont\": {\"color\": \"#4D5663\"}, \"gridcolor\": \"#E1E5ED\", \"titlefont\": {\"color\": \"#4D5663\"}, \"zerolinecolor\": \"#E1E5ED\", \"showgrid\": true, \"title\": \"\"}, \"titlefont\": {\"color\": \"#4D5663\"}, \"title\": \"Complaints by Flavor\"}, {\"showLink\": true, \"linkText\": \"Export to plot.ly\"})});</script>"
      ],
      "text/vnd.plotly.v1+html": [
       "<div id=\"438f99f9-322c-4b92-9926-a21e7dbb2bb2\" style=\"height: 525px; width: 100%;\" class=\"plotly-graph-div\"></div><script type=\"text/javascript\">require([\"plotly\"], function(Plotly) { window.PLOTLYENV=window.PLOTLYENV || {};window.PLOTLYENV.BASE_URL=\"https://plot.ly\";Plotly.newPlot(\"438f99f9-322c-4b92-9926-a21e7dbb2bb2\", [{\"type\": \"bar\", \"x\": [\"Meadows & Rain\", \"Gain\", \"Summer Citrus\", \"Hawaiian Aloha\", \"Apple Berry Twist\", \"-\", \"Lavender Vanilla & Comfort\", \"Citrus & Light\", \"Lavender\", \"Lemon\", \"New Zealand Springs\", \"Regular\"], \"y\": [374, 221, 182, 46, 45, 30, 28, 25, 17, 17, 3, 1], \"name\": \"Flavor Scent Detail\", \"text\": \"\", \"marker\": {\"color\": \"rgba(255, 153, 51, 0.6)\", \"line\": {\"color\": \"rgba(255, 153, 51, 1.0)\", \"width\": 1}}, \"orientation\": \"v\"}], {\"legend\": {\"bgcolor\": \"#F5F6F9\", \"font\": {\"color\": \"#4D5663\"}}, \"paper_bgcolor\": \"#F5F6F9\", \"plot_bgcolor\": \"#F5F6F9\", \"yaxis1\": {\"tickfont\": {\"color\": \"#4D5663\"}, \"gridcolor\": \"#E1E5ED\", \"titlefont\": {\"color\": \"#4D5663\"}, \"zerolinecolor\": \"#E1E5ED\", \"showgrid\": true, \"title\": \"Count\"}, \"xaxis1\": {\"tickfont\": {\"color\": \"#4D5663\"}, \"gridcolor\": \"#E1E5ED\", \"titlefont\": {\"color\": \"#4D5663\"}, \"zerolinecolor\": \"#E1E5ED\", \"showgrid\": true, \"title\": \"\"}, \"titlefont\": {\"color\": \"#4D5663\"}, \"title\": \"Complaints by Flavor\"}, {\"showLink\": true, \"linkText\": \"Export to plot.ly\"})});</script>"
      ]
     },
     "metadata": {},
     "output_type": "display_data"
    }
   ],
   "source": [
    "df['Flavor Scent Detail'].value_counts().iplot(kind='bar', yTitle='Count', title='Complaints by Flavor')"
   ]
  },
  {
   "cell_type": "code",
   "execution_count": 73,
   "metadata": {},
   "outputs": [
    {
     "data": {
      "application/vnd.plotly.v1+json": {
       "data": [
        {
         "marker": {
          "color": "rgba(255, 153, 51, 0.6)",
          "line": {
           "color": "rgba(255, 153, 51, 1.0)",
           "width": 1
          }
         },
         "name": "Comment Criticality",
         "orientation": "v",
         "text": "",
         "type": "bar",
         "x": [
          "Non-Critical",
          "Critical"
         ],
         "y": [
          972,
          20
         ]
        }
       ],
       "layout": {
        "legend": {
         "bgcolor": "#F5F6F9",
         "font": {
          "color": "#4D5663"
         }
        },
        "paper_bgcolor": "#F5F6F9",
        "plot_bgcolor": "#F5F6F9",
        "title": "Criticality",
        "titlefont": {
         "color": "#4D5663"
        },
        "xaxis1": {
         "gridcolor": "#E1E5ED",
         "showgrid": true,
         "tickfont": {
          "color": "#4D5663"
         },
         "title": "",
         "titlefont": {
          "color": "#4D5663"
         },
         "zerolinecolor": "#E1E5ED"
        },
        "yaxis1": {
         "gridcolor": "#E1E5ED",
         "showgrid": true,
         "tickfont": {
          "color": "#4D5663"
         },
         "title": "Count",
         "titlefont": {
          "color": "#4D5663"
         },
         "zerolinecolor": "#E1E5ED"
        }
       }
      },
      "text/html": [
       "<div id=\"4fc47c9e-e756-4bee-9e8c-b05d091d79bf\" style=\"height: 525px; width: 100%;\" class=\"plotly-graph-div\"></div><script type=\"text/javascript\">require([\"plotly\"], function(Plotly) { window.PLOTLYENV=window.PLOTLYENV || {};window.PLOTLYENV.BASE_URL=\"https://plot.ly\";Plotly.newPlot(\"4fc47c9e-e756-4bee-9e8c-b05d091d79bf\", [{\"type\": \"bar\", \"x\": [\"Non-Critical\", \"Critical\"], \"y\": [972, 20], \"name\": \"Comment Criticality\", \"text\": \"\", \"marker\": {\"color\": \"rgba(255, 153, 51, 0.6)\", \"line\": {\"color\": \"rgba(255, 153, 51, 1.0)\", \"width\": 1}}, \"orientation\": \"v\"}], {\"legend\": {\"bgcolor\": \"#F5F6F9\", \"font\": {\"color\": \"#4D5663\"}}, \"paper_bgcolor\": \"#F5F6F9\", \"plot_bgcolor\": \"#F5F6F9\", \"yaxis1\": {\"tickfont\": {\"color\": \"#4D5663\"}, \"gridcolor\": \"#E1E5ED\", \"titlefont\": {\"color\": \"#4D5663\"}, \"zerolinecolor\": \"#E1E5ED\", \"showgrid\": true, \"title\": \"Count\"}, \"xaxis1\": {\"tickfont\": {\"color\": \"#4D5663\"}, \"gridcolor\": \"#E1E5ED\", \"titlefont\": {\"color\": \"#4D5663\"}, \"zerolinecolor\": \"#E1E5ED\", \"showgrid\": true, \"title\": \"\"}, \"titlefont\": {\"color\": \"#4D5663\"}, \"title\": \"Criticality\"}, {\"showLink\": true, \"linkText\": \"Export to plot.ly\"})});</script>"
      ],
      "text/vnd.plotly.v1+html": [
       "<div id=\"4fc47c9e-e756-4bee-9e8c-b05d091d79bf\" style=\"height: 525px; width: 100%;\" class=\"plotly-graph-div\"></div><script type=\"text/javascript\">require([\"plotly\"], function(Plotly) { window.PLOTLYENV=window.PLOTLYENV || {};window.PLOTLYENV.BASE_URL=\"https://plot.ly\";Plotly.newPlot(\"4fc47c9e-e756-4bee-9e8c-b05d091d79bf\", [{\"type\": \"bar\", \"x\": [\"Non-Critical\", \"Critical\"], \"y\": [972, 20], \"name\": \"Comment Criticality\", \"text\": \"\", \"marker\": {\"color\": \"rgba(255, 153, 51, 0.6)\", \"line\": {\"color\": \"rgba(255, 153, 51, 1.0)\", \"width\": 1}}, \"orientation\": \"v\"}], {\"legend\": {\"bgcolor\": \"#F5F6F9\", \"font\": {\"color\": \"#4D5663\"}}, \"paper_bgcolor\": \"#F5F6F9\", \"plot_bgcolor\": \"#F5F6F9\", \"yaxis1\": {\"tickfont\": {\"color\": \"#4D5663\"}, \"gridcolor\": \"#E1E5ED\", \"titlefont\": {\"color\": \"#4D5663\"}, \"zerolinecolor\": \"#E1E5ED\", \"showgrid\": true, \"title\": \"Count\"}, \"xaxis1\": {\"tickfont\": {\"color\": \"#4D5663\"}, \"gridcolor\": \"#E1E5ED\", \"titlefont\": {\"color\": \"#4D5663\"}, \"zerolinecolor\": \"#E1E5ED\", \"showgrid\": true, \"title\": \"\"}, \"titlefont\": {\"color\": \"#4D5663\"}, \"title\": \"Criticality\"}, {\"showLink\": true, \"linkText\": \"Export to plot.ly\"})});</script>"
      ]
     },
     "metadata": {},
     "output_type": "display_data"
    }
   ],
   "source": [
    "df['Comment Criticality'].value_counts().iplot(kind='bar', yTitle='Count', title='Criticality')"
   ]
  },
  {
   "cell_type": "code",
   "execution_count": 80,
   "metadata": {},
   "outputs": [
    {
     "data": {
      "application/vnd.plotly.v1+json": {
       "data": [
        {
         "marker": {
          "color": "rgba(255, 153, 51, 0.6)",
          "line": {
           "color": "rgba(255, 153, 51, 1.0)",
           "width": 1
          }
         },
         "name": "Unit Size",
         "orientation": "v",
         "text": "",
         "type": "bar",
         "x": [
          "40OZ",
          "-",
          "128OZ",
          "24OZ",
          "48OZ",
          "1.2L",
          "28OZ",
          "80OZ",
          "800ML",
          "5L",
          "25.35OZ"
         ],
         "y": [
          340,
          239,
          149,
          103,
          95,
          29,
          12,
          6,
          5,
          3,
          1
         ]
        }
       ],
       "layout": {
        "legend": {
         "bgcolor": "#F5F6F9",
         "font": {
          "color": "#4D5663"
         }
        },
        "paper_bgcolor": "#F5F6F9",
        "plot_bgcolor": "#F5F6F9",
        "title": "Unit Size",
        "titlefont": {
         "color": "#4D5663"
        },
        "xaxis1": {
         "gridcolor": "#E1E5ED",
         "showgrid": true,
         "tickfont": {
          "color": "#4D5663"
         },
         "title": "",
         "titlefont": {
          "color": "#4D5663"
         },
         "zerolinecolor": "#E1E5ED"
        },
        "yaxis1": {
         "gridcolor": "#E1E5ED",
         "showgrid": true,
         "tickfont": {
          "color": "#4D5663"
         },
         "title": "Count",
         "titlefont": {
          "color": "#4D5663"
         },
         "zerolinecolor": "#E1E5ED"
        }
       }
      },
      "text/html": [
       "<div id=\"385d1517-857f-4167-a004-d3705f93b645\" style=\"height: 525px; width: 100%;\" class=\"plotly-graph-div\"></div><script type=\"text/javascript\">require([\"plotly\"], function(Plotly) { window.PLOTLYENV=window.PLOTLYENV || {};window.PLOTLYENV.BASE_URL=\"https://plot.ly\";Plotly.newPlot(\"385d1517-857f-4167-a004-d3705f93b645\", [{\"type\": \"bar\", \"x\": [\"40OZ\", \"-\", \"128OZ\", \"24OZ\", \"48OZ\", \"1.2L\", \"28OZ\", \"80OZ\", \"800ML\", \"5L\", \"25.35OZ\"], \"y\": [340, 239, 149, 103, 95, 29, 12, 6, 5, 3, 1], \"name\": \"Unit Size\", \"text\": \"\", \"marker\": {\"color\": \"rgba(255, 153, 51, 0.6)\", \"line\": {\"color\": \"rgba(255, 153, 51, 1.0)\", \"width\": 1}}, \"orientation\": \"v\"}], {\"legend\": {\"bgcolor\": \"#F5F6F9\", \"font\": {\"color\": \"#4D5663\"}}, \"paper_bgcolor\": \"#F5F6F9\", \"plot_bgcolor\": \"#F5F6F9\", \"yaxis1\": {\"tickfont\": {\"color\": \"#4D5663\"}, \"gridcolor\": \"#E1E5ED\", \"titlefont\": {\"color\": \"#4D5663\"}, \"zerolinecolor\": \"#E1E5ED\", \"showgrid\": true, \"title\": \"Count\"}, \"xaxis1\": {\"tickfont\": {\"color\": \"#4D5663\"}, \"gridcolor\": \"#E1E5ED\", \"titlefont\": {\"color\": \"#4D5663\"}, \"zerolinecolor\": \"#E1E5ED\", \"showgrid\": true, \"title\": \"\"}, \"titlefont\": {\"color\": \"#4D5663\"}, \"title\": \"Unit Size\"}, {\"showLink\": true, \"linkText\": \"Export to plot.ly\"})});</script>"
      ],
      "text/vnd.plotly.v1+html": [
       "<div id=\"385d1517-857f-4167-a004-d3705f93b645\" style=\"height: 525px; width: 100%;\" class=\"plotly-graph-div\"></div><script type=\"text/javascript\">require([\"plotly\"], function(Plotly) { window.PLOTLYENV=window.PLOTLYENV || {};window.PLOTLYENV.BASE_URL=\"https://plot.ly\";Plotly.newPlot(\"385d1517-857f-4167-a004-d3705f93b645\", [{\"type\": \"bar\", \"x\": [\"40OZ\", \"-\", \"128OZ\", \"24OZ\", \"48OZ\", \"1.2L\", \"28OZ\", \"80OZ\", \"800ML\", \"5L\", \"25.35OZ\"], \"y\": [340, 239, 149, 103, 95, 29, 12, 6, 5, 3, 1], \"name\": \"Unit Size\", \"text\": \"\", \"marker\": {\"color\": \"rgba(255, 153, 51, 0.6)\", \"line\": {\"color\": \"rgba(255, 153, 51, 1.0)\", \"width\": 1}}, \"orientation\": \"v\"}], {\"legend\": {\"bgcolor\": \"#F5F6F9\", \"font\": {\"color\": \"#4D5663\"}}, \"paper_bgcolor\": \"#F5F6F9\", \"plot_bgcolor\": \"#F5F6F9\", \"yaxis1\": {\"tickfont\": {\"color\": \"#4D5663\"}, \"gridcolor\": \"#E1E5ED\", \"titlefont\": {\"color\": \"#4D5663\"}, \"zerolinecolor\": \"#E1E5ED\", \"showgrid\": true, \"title\": \"Count\"}, \"xaxis1\": {\"tickfont\": {\"color\": \"#4D5663\"}, \"gridcolor\": \"#E1E5ED\", \"titlefont\": {\"color\": \"#4D5663\"}, \"zerolinecolor\": \"#E1E5ED\", \"showgrid\": true, \"title\": \"\"}, \"titlefont\": {\"color\": \"#4D5663\"}, \"title\": \"Unit Size\"}, {\"showLink\": true, \"linkText\": \"Export to plot.ly\"})});</script>"
      ]
     },
     "metadata": {},
     "output_type": "display_data"
    }
   ],
   "source": [
    "df['Unit Size'].value_counts().iplot(kind='bar', yTitle='Count', title='Unit Size')"
   ]
  },
  {
   "cell_type": "code",
   "execution_count": 88,
   "metadata": {},
   "outputs": [
    {
     "data": {
      "application/vnd.plotly.v1+json": {
       "data": [
        {
         "marker": {
          "color": "rgba(255, 153, 51, 0.6)",
          "line": {
           "color": "rgba(255, 153, 51, 1.0)",
           "width": 1
          }
         },
         "name": "Initial Receipt Date",
         "orientation": "v",
         "text": "",
         "type": "bar",
         "x": [
          "2017-04-20",
          "2016-09-01",
          "2016-05-02",
          "2017-06-09",
          "2016-08-02",
          "2016-06-03",
          "2016-07-21",
          "2015-12-01",
          "2016-01-22",
          "2016-06-10",
          "2016-04-04",
          "2017-04-24",
          "2016-03-15",
          "2016-01-04",
          "2015-12-02",
          "2016-01-05",
          "2016-03-01",
          "2016-03-25",
          "2016-07-15",
          "2016-02-05",
          "2016-02-04",
          "2016-03-14",
          "2016-04-14",
          "2017-06-06",
          "2017-05-22",
          "2017-05-11",
          "2015-12-29",
          "2016-07-19",
          "2016-02-09",
          "2016-01-07",
          "2017-05-03",
          "2016-08-05",
          "2016-04-13",
          "2016-03-23",
          "2017-04-04",
          "2017-05-02",
          "2017-02-08",
          "2017-03-15",
          "2016-09-06",
          "2016-07-27",
          "2017-05-01",
          "2016-05-03",
          "2017-03-28",
          "2016-07-22",
          "2016-08-19",
          "2016-04-28",
          "2016-02-15",
          "2016-03-21",
          "2016-10-03",
          "2015-12-08",
          "2016-01-28",
          "2017-06-20",
          "2016-07-29",
          "2016-07-11",
          "2016-01-15",
          "2016-05-18",
          "2016-02-16",
          "2016-02-10",
          "2016-09-28",
          "2016-07-28",
          "2017-05-09",
          "2017-06-14",
          "2016-06-21",
          "2017-04-18",
          "2016-05-10",
          "2015-12-22",
          "2017-03-02",
          "2017-02-03",
          "2016-03-30",
          "2016-12-20",
          "2016-06-20",
          "2016-04-19",
          "2016-12-15",
          "2015-12-31",
          "2017-03-16",
          "2016-01-12",
          "2016-10-27",
          "2016-07-18",
          "2016-05-16",
          "2016-11-22",
          "2017-01-23",
          "2016-05-27",
          "2016-04-12",
          "2017-03-13",
          "2016-11-09",
          "2016-01-20",
          "2017-04-28",
          "2017-06-08",
          "2015-12-30",
          "2016-11-10",
          "2017-05-31",
          "2016-11-07",
          "2016-01-19",
          "2016-05-23",
          "2016-03-04",
          "2017-05-16",
          "2016-09-13",
          "2017-03-07",
          "2017-06-01",
          "2016-06-01",
          "2016-10-21",
          "2017-01-18",
          "2017-04-17",
          "2017-06-12",
          "2016-08-29",
          "2015-12-04",
          "2016-09-29",
          "2016-05-11",
          "2016-01-18",
          "2017-03-27",
          "2016-05-05",
          "2016-01-08",
          "2016-11-18",
          "2017-06-26",
          "2016-08-08",
          "2017-02-10",
          "2017-04-13",
          "2017-06-15",
          "2017-04-14",
          "2016-03-09",
          "2017-05-29",
          "2016-09-22",
          "2016-11-23",
          "2016-08-23",
          "2017-02-02",
          "2016-05-25",
          "2017-05-15",
          "2017-01-11",
          "2016-06-22",
          "2016-01-26",
          "2017-05-26",
          "2016-06-15",
          "2016-02-29",
          "2016-06-16",
          "2017-06-22",
          "2017-04-05",
          "2017-01-04",
          "2017-05-23",
          "2016-03-29",
          "2016-02-01",
          "2016-12-30",
          "2016-06-27",
          "2017-04-10",
          "2016-02-18",
          "2016-10-12",
          "2016-08-22",
          "2017-03-30",
          "2015-12-07",
          "2017-06-28",
          "2016-09-26",
          "2016-06-17",
          "2015-12-03",
          "2016-12-09",
          "2015-12-14",
          "2015-12-17",
          "2017-03-03",
          "2016-03-22",
          "2017-05-10",
          "2016-03-16",
          "2017-01-26",
          "2016-10-05",
          "2017-06-21",
          "2017-02-14",
          "2016-10-13",
          "2016-08-10",
          "2016-08-31",
          "2016-08-03",
          "2017-01-20",
          "2016-01-25",
          "2017-01-27",
          "2016-11-02",
          "2017-04-27",
          "2016-04-01",
          "2015-12-28",
          "2017-02-07",
          "2016-03-17",
          "2017-03-06",
          "2016-03-11",
          "2017-02-06",
          "2017-04-19",
          "2016-11-03",
          "2016-09-23",
          "2016-05-12",
          "2016-06-09",
          "2016-07-13",
          "2017-01-31",
          "2016-04-07",
          "2016-07-06",
          "2016-06-08",
          "2016-03-28",
          "2016-02-12",
          "2017-06-05",
          "2017-03-31",
          "2016-08-16",
          "2016-12-18",
          "2015-12-23",
          "2016-11-30",
          "2016-07-08",
          "2016-09-20",
          "2016-03-03",
          "2016-12-02",
          "2016-04-15",
          "2017-03-08",
          "2016-03-18",
          "2016-05-19",
          "2016-09-16",
          "2016-02-02",
          "2016-06-29",
          "2016-12-08",
          "2016-05-09",
          "2016-03-08",
          "2016-03-07",
          "2016-08-24",
          "2016-04-22",
          "2017-01-24",
          "2016-08-12",
          "2016-09-21",
          "2016-08-18",
          "2017-04-06",
          "2016-04-27",
          "2016-06-28",
          "2016-05-31",
          "2016-11-16",
          "2017-02-17",
          "2016-09-15",
          "2016-05-04",
          "2016-08-25",
          "2016-01-21",
          "2016-06-13",
          "2016-05-24",
          "2016-12-13",
          "2016-02-24",
          "2016-10-29",
          "2017-04-22",
          "2016-01-10",
          "2017-04-25",
          "2017-05-21",
          "2017-01-16",
          "2016-07-20",
          "2016-04-08",
          "2017-02-13",
          "2016-12-12",
          "2016-10-11",
          "2017-06-11",
          "2017-03-10",
          "2016-02-25",
          "2017-03-29",
          "2017-04-21",
          "2016-01-27",
          "2017-02-24",
          "2016-07-25",
          "2016-08-17",
          "2016-01-11",
          "2015-12-13",
          "2016-05-14",
          "2016-04-25",
          "2016-04-26",
          "2016-05-06",
          "2017-03-01",
          "2016-09-14",
          "2016-05-13",
          "2017-02-01",
          "2016-12-01",
          "2016-09-30",
          "2016-02-19",
          "2017-05-19",
          "2016-04-21",
          "2016-11-14",
          "2017-05-25",
          "2016-10-24",
          "2016-06-04",
          "2016-09-19",
          "2016-07-26",
          "2017-01-28",
          "2015-12-27",
          "2016-08-04",
          "2017-04-26",
          "2015-12-16",
          "2016-01-29",
          "2015-12-15",
          "2017-04-11",
          "2017-04-07",
          "2017-05-12",
          "2016-06-18",
          "2016-10-20",
          "2016-04-06",
          "2016-06-07",
          "2017-02-22",
          "2016-12-22",
          "2016-12-27",
          "2016-12-05",
          "2016-11-17",
          "2017-02-27",
          "2016-06-02",
          "2016-11-12",
          "2017-03-22",
          "2017-01-19",
          "2016-01-24",
          "2016-09-17",
          "2017-05-17",
          "2015-12-10",
          "2016-01-13",
          "2017-01-02",
          "2016-04-29",
          "2017-03-17",
          "2016-08-09",
          "2017-02-23",
          "2016-06-14",
          "2017-01-17",
          "2016-08-01",
          "2016-12-06",
          "2017-02-16",
          "2017-05-24",
          "2016-01-17",
          "2016-05-20",
          "2016-02-03",
          "2016-04-05",
          "2016-06-06",
          "2017-02-09",
          "2017-04-12",
          "2016-06-23",
          "2016-10-31",
          "2017-04-03",
          "2016-10-25",
          "2017-06-30",
          "2016-09-12",
          "2016-09-27",
          "2016-03-10",
          "2016-11-28",
          "2017-06-02",
          "2017-06-17",
          "2016-04-11",
          "2017-02-15",
          "2017-05-30",
          "2016-09-08"
         ],
         "y": [
          12,
          11,
          11,
          10,
          10,
          9,
          9,
          8,
          8,
          8,
          8,
          8,
          8,
          8,
          8,
          7,
          7,
          7,
          7,
          7,
          6,
          6,
          6,
          6,
          6,
          6,
          6,
          6,
          6,
          6,
          6,
          6,
          6,
          6,
          6,
          5,
          5,
          5,
          5,
          5,
          5,
          5,
          5,
          5,
          5,
          5,
          5,
          5,
          5,
          5,
          5,
          5,
          5,
          5,
          5,
          5,
          5,
          5,
          5,
          5,
          5,
          5,
          5,
          4,
          4,
          4,
          4,
          4,
          4,
          4,
          4,
          4,
          4,
          4,
          4,
          4,
          4,
          4,
          4,
          4,
          4,
          4,
          4,
          4,
          4,
          4,
          4,
          4,
          4,
          4,
          4,
          4,
          4,
          4,
          4,
          4,
          4,
          4,
          4,
          4,
          4,
          4,
          4,
          4,
          4,
          3,
          3,
          3,
          3,
          3,
          3,
          3,
          3,
          3,
          3,
          3,
          3,
          3,
          3,
          3,
          3,
          3,
          3,
          3,
          3,
          3,
          3,
          3,
          3,
          3,
          3,
          3,
          3,
          3,
          3,
          3,
          3,
          3,
          3,
          3,
          3,
          3,
          3,
          3,
          3,
          3,
          3,
          3,
          3,
          3,
          3,
          3,
          3,
          3,
          3,
          3,
          3,
          3,
          3,
          3,
          3,
          3,
          3,
          3,
          3,
          2,
          2,
          2,
          2,
          2,
          2,
          2,
          2,
          2,
          2,
          2,
          2,
          2,
          2,
          2,
          2,
          2,
          2,
          2,
          2,
          2,
          2,
          2,
          2,
          2,
          2,
          2,
          2,
          2,
          2,
          2,
          2,
          2,
          2,
          2,
          2,
          2,
          2,
          2,
          2,
          2,
          2,
          2,
          2,
          2,
          2,
          2,
          2,
          2,
          2,
          2,
          2,
          2,
          2,
          2,
          2,
          2,
          2,
          2,
          2,
          2,
          2,
          2,
          2,
          2,
          2,
          2,
          2,
          2,
          2,
          2,
          2,
          2,
          1,
          1,
          1,
          1,
          1,
          1,
          1,
          1,
          1,
          1,
          1,
          1,
          1,
          1,
          1,
          1,
          1,
          1,
          1,
          1,
          1,
          1,
          1,
          1,
          1,
          1,
          1,
          1,
          1,
          1,
          1,
          1,
          1,
          1,
          1,
          1,
          1,
          1,
          1,
          1,
          1,
          1,
          1,
          1,
          1,
          1,
          1,
          1,
          1,
          1,
          1,
          1,
          1,
          1,
          1,
          1,
          1,
          1,
          1,
          1,
          1,
          1,
          1,
          1,
          1,
          1,
          1,
          1,
          1,
          1,
          1,
          1,
          1,
          1,
          1,
          1,
          1,
          1,
          1,
          1,
          1,
          1,
          1,
          1,
          1,
          1,
          1,
          1,
          1,
          1,
          1,
          1,
          1,
          1,
          1,
          1,
          1
         ]
        }
       ],
       "layout": {
        "legend": {
         "bgcolor": "#F5F6F9",
         "font": {
          "color": "#4D5663"
         }
        },
        "paper_bgcolor": "#F5F6F9",
        "plot_bgcolor": "#F5F6F9",
        "title": "Number of Complaints by Date",
        "titlefont": {
         "color": "#4D5663"
        },
        "xaxis1": {
         "gridcolor": "#E1E5ED",
         "showgrid": true,
         "tickfont": {
          "color": "#4D5663"
         },
         "title": "",
         "titlefont": {
          "color": "#4D5663"
         },
         "zerolinecolor": "#E1E5ED"
        },
        "yaxis1": {
         "gridcolor": "#E1E5ED",
         "showgrid": true,
         "tickfont": {
          "color": "#4D5663"
         },
         "title": "Count",
         "titlefont": {
          "color": "#4D5663"
         },
         "zerolinecolor": "#E1E5ED"
        }
       }
      },
      "text/html": [
       "<div id=\"aabbffaa-7406-4c7e-9d19-5d325742a726\" style=\"height: 525px; width: 100%;\" class=\"plotly-graph-div\"></div><script type=\"text/javascript\">require([\"plotly\"], function(Plotly) { window.PLOTLYENV=window.PLOTLYENV || {};window.PLOTLYENV.BASE_URL=\"https://plot.ly\";Plotly.newPlot(\"aabbffaa-7406-4c7e-9d19-5d325742a726\", [{\"type\": \"bar\", \"x\": [\"2017-04-20\", \"2016-09-01\", \"2016-05-02\", \"2017-06-09\", \"2016-08-02\", \"2016-06-03\", \"2016-07-21\", \"2015-12-01\", \"2016-01-22\", \"2016-06-10\", \"2016-04-04\", \"2017-04-24\", \"2016-03-15\", \"2016-01-04\", \"2015-12-02\", \"2016-01-05\", \"2016-03-01\", \"2016-03-25\", \"2016-07-15\", \"2016-02-05\", \"2016-02-04\", \"2016-03-14\", \"2016-04-14\", \"2017-06-06\", \"2017-05-22\", \"2017-05-11\", \"2015-12-29\", \"2016-07-19\", \"2016-02-09\", \"2016-01-07\", \"2017-05-03\", \"2016-08-05\", \"2016-04-13\", \"2016-03-23\", \"2017-04-04\", \"2017-05-02\", \"2017-02-08\", \"2017-03-15\", \"2016-09-06\", \"2016-07-27\", \"2017-05-01\", \"2016-05-03\", \"2017-03-28\", \"2016-07-22\", \"2016-08-19\", \"2016-04-28\", \"2016-02-15\", \"2016-03-21\", \"2016-10-03\", \"2015-12-08\", \"2016-01-28\", \"2017-06-20\", \"2016-07-29\", \"2016-07-11\", \"2016-01-15\", \"2016-05-18\", \"2016-02-16\", \"2016-02-10\", \"2016-09-28\", \"2016-07-28\", \"2017-05-09\", \"2017-06-14\", \"2016-06-21\", \"2017-04-18\", \"2016-05-10\", \"2015-12-22\", \"2017-03-02\", \"2017-02-03\", \"2016-03-30\", \"2016-12-20\", \"2016-06-20\", \"2016-04-19\", \"2016-12-15\", \"2015-12-31\", \"2017-03-16\", \"2016-01-12\", \"2016-10-27\", \"2016-07-18\", \"2016-05-16\", \"2016-11-22\", \"2017-01-23\", \"2016-05-27\", \"2016-04-12\", \"2017-03-13\", \"2016-11-09\", \"2016-01-20\", \"2017-04-28\", \"2017-06-08\", \"2015-12-30\", \"2016-11-10\", \"2017-05-31\", \"2016-11-07\", \"2016-01-19\", \"2016-05-23\", \"2016-03-04\", \"2017-05-16\", \"2016-09-13\", \"2017-03-07\", \"2017-06-01\", \"2016-06-01\", \"2016-10-21\", \"2017-01-18\", \"2017-04-17\", \"2017-06-12\", \"2016-08-29\", \"2015-12-04\", \"2016-09-29\", \"2016-05-11\", \"2016-01-18\", \"2017-03-27\", \"2016-05-05\", \"2016-01-08\", \"2016-11-18\", \"2017-06-26\", \"2016-08-08\", \"2017-02-10\", \"2017-04-13\", \"2017-06-15\", \"2017-04-14\", \"2016-03-09\", \"2017-05-29\", \"2016-09-22\", \"2016-11-23\", \"2016-08-23\", \"2017-02-02\", \"2016-05-25\", \"2017-05-15\", \"2017-01-11\", \"2016-06-22\", \"2016-01-26\", \"2017-05-26\", \"2016-06-15\", \"2016-02-29\", \"2016-06-16\", \"2017-06-22\", \"2017-04-05\", \"2017-01-04\", \"2017-05-23\", \"2016-03-29\", \"2016-02-01\", \"2016-12-30\", \"2016-06-27\", \"2017-04-10\", \"2016-02-18\", \"2016-10-12\", \"2016-08-22\", \"2017-03-30\", \"2015-12-07\", \"2017-06-28\", \"2016-09-26\", \"2016-06-17\", \"2015-12-03\", \"2016-12-09\", \"2015-12-14\", \"2015-12-17\", \"2017-03-03\", \"2016-03-22\", \"2017-05-10\", \"2016-03-16\", \"2017-01-26\", \"2016-10-05\", \"2017-06-21\", \"2017-02-14\", \"2016-10-13\", \"2016-08-10\", \"2016-08-31\", \"2016-08-03\", \"2017-01-20\", \"2016-01-25\", \"2017-01-27\", \"2016-11-02\", \"2017-04-27\", \"2016-04-01\", \"2015-12-28\", \"2017-02-07\", \"2016-03-17\", \"2017-03-06\", \"2016-03-11\", \"2017-02-06\", \"2017-04-19\", \"2016-11-03\", \"2016-09-23\", \"2016-05-12\", \"2016-06-09\", \"2016-07-13\", \"2017-01-31\", \"2016-04-07\", \"2016-07-06\", \"2016-06-08\", \"2016-03-28\", \"2016-02-12\", \"2017-06-05\", \"2017-03-31\", \"2016-08-16\", \"2016-12-18\", \"2015-12-23\", \"2016-11-30\", \"2016-07-08\", \"2016-09-20\", \"2016-03-03\", \"2016-12-02\", \"2016-04-15\", \"2017-03-08\", \"2016-03-18\", \"2016-05-19\", \"2016-09-16\", \"2016-02-02\", \"2016-06-29\", \"2016-12-08\", \"2016-05-09\", \"2016-03-08\", \"2016-03-07\", \"2016-08-24\", \"2016-04-22\", \"2017-01-24\", \"2016-08-12\", \"2016-09-21\", \"2016-08-18\", \"2017-04-06\", \"2016-04-27\", \"2016-06-28\", \"2016-05-31\", \"2016-11-16\", \"2017-02-17\", \"2016-09-15\", \"2016-05-04\", \"2016-08-25\", \"2016-01-21\", \"2016-06-13\", \"2016-05-24\", \"2016-12-13\", \"2016-02-24\", \"2016-10-29\", \"2017-04-22\", \"2016-01-10\", \"2017-04-25\", \"2017-05-21\", \"2017-01-16\", \"2016-07-20\", \"2016-04-08\", \"2017-02-13\", \"2016-12-12\", \"2016-10-11\", \"2017-06-11\", \"2017-03-10\", \"2016-02-25\", \"2017-03-29\", \"2017-04-21\", \"2016-01-27\", \"2017-02-24\", \"2016-07-25\", \"2016-08-17\", \"2016-01-11\", \"2015-12-13\", \"2016-05-14\", \"2016-04-25\", \"2016-04-26\", \"2016-05-06\", \"2017-03-01\", \"2016-09-14\", \"2016-05-13\", \"2017-02-01\", \"2016-12-01\", \"2016-09-30\", \"2016-02-19\", \"2017-05-19\", \"2016-04-21\", \"2016-11-14\", \"2017-05-25\", \"2016-10-24\", \"2016-06-04\", \"2016-09-19\", \"2016-07-26\", \"2017-01-28\", \"2015-12-27\", \"2016-08-04\", \"2017-04-26\", \"2015-12-16\", \"2016-01-29\", \"2015-12-15\", \"2017-04-11\", \"2017-04-07\", \"2017-05-12\", \"2016-06-18\", \"2016-10-20\", \"2016-04-06\", \"2016-06-07\", \"2017-02-22\", \"2016-12-22\", \"2016-12-27\", \"2016-12-05\", \"2016-11-17\", \"2017-02-27\", \"2016-06-02\", \"2016-11-12\", \"2017-03-22\", \"2017-01-19\", \"2016-01-24\", \"2016-09-17\", \"2017-05-17\", \"2015-12-10\", \"2016-01-13\", \"2017-01-02\", \"2016-04-29\", \"2017-03-17\", \"2016-08-09\", \"2017-02-23\", \"2016-06-14\", \"2017-01-17\", \"2016-08-01\", \"2016-12-06\", \"2017-02-16\", \"2017-05-24\", \"2016-01-17\", \"2016-05-20\", \"2016-02-03\", \"2016-04-05\", \"2016-06-06\", \"2017-02-09\", \"2017-04-12\", \"2016-06-23\", \"2016-10-31\", \"2017-04-03\", \"2016-10-25\", \"2017-06-30\", \"2016-09-12\", \"2016-09-27\", \"2016-03-10\", \"2016-11-28\", \"2017-06-02\", \"2017-06-17\", \"2016-04-11\", \"2017-02-15\", \"2017-05-30\", \"2016-09-08\"], \"y\": [12, 11, 11, 10, 10, 9, 9, 8, 8, 8, 8, 8, 8, 8, 8, 7, 7, 7, 7, 7, 6, 6, 6, 6, 6, 6, 6, 6, 6, 6, 6, 6, 6, 6, 6, 5, 5, 5, 5, 5, 5, 5, 5, 5, 5, 5, 5, 5, 5, 5, 5, 5, 5, 5, 5, 5, 5, 5, 5, 5, 5, 5, 5, 4, 4, 4, 4, 4, 4, 4, 4, 4, 4, 4, 4, 4, 4, 4, 4, 4, 4, 4, 4, 4, 4, 4, 4, 4, 4, 4, 4, 4, 4, 4, 4, 4, 4, 4, 4, 4, 4, 4, 4, 4, 4, 3, 3, 3, 3, 3, 3, 3, 3, 3, 3, 3, 3, 3, 3, 3, 3, 3, 3, 3, 3, 3, 3, 3, 3, 3, 3, 3, 3, 3, 3, 3, 3, 3, 3, 3, 3, 3, 3, 3, 3, 3, 3, 3, 3, 3, 3, 3, 3, 3, 3, 3, 3, 3, 3, 3, 3, 3, 3, 3, 3, 2, 2, 2, 2, 2, 2, 2, 2, 2, 2, 2, 2, 2, 2, 2, 2, 2, 2, 2, 2, 2, 2, 2, 2, 2, 2, 2, 2, 2, 2, 2, 2, 2, 2, 2, 2, 2, 2, 2, 2, 2, 2, 2, 2, 2, 2, 2, 2, 2, 2, 2, 2, 2, 2, 2, 2, 2, 2, 2, 2, 2, 2, 2, 2, 2, 2, 2, 2, 2, 2, 2, 2, 2, 1, 1, 1, 1, 1, 1, 1, 1, 1, 1, 1, 1, 1, 1, 1, 1, 1, 1, 1, 1, 1, 1, 1, 1, 1, 1, 1, 1, 1, 1, 1, 1, 1, 1, 1, 1, 1, 1, 1, 1, 1, 1, 1, 1, 1, 1, 1, 1, 1, 1, 1, 1, 1, 1, 1, 1, 1, 1, 1, 1, 1, 1, 1, 1, 1, 1, 1, 1, 1, 1, 1, 1, 1, 1, 1, 1, 1, 1, 1, 1, 1, 1, 1, 1, 1, 1, 1, 1, 1, 1, 1, 1, 1, 1, 1, 1, 1], \"name\": \"Initial Receipt Date\", \"text\": \"\", \"marker\": {\"color\": \"rgba(255, 153, 51, 0.6)\", \"line\": {\"color\": \"rgba(255, 153, 51, 1.0)\", \"width\": 1}}, \"orientation\": \"v\"}], {\"legend\": {\"bgcolor\": \"#F5F6F9\", \"font\": {\"color\": \"#4D5663\"}}, \"paper_bgcolor\": \"#F5F6F9\", \"plot_bgcolor\": \"#F5F6F9\", \"yaxis1\": {\"tickfont\": {\"color\": \"#4D5663\"}, \"gridcolor\": \"#E1E5ED\", \"titlefont\": {\"color\": \"#4D5663\"}, \"zerolinecolor\": \"#E1E5ED\", \"showgrid\": true, \"title\": \"Count\"}, \"xaxis1\": {\"tickfont\": {\"color\": \"#4D5663\"}, \"gridcolor\": \"#E1E5ED\", \"titlefont\": {\"color\": \"#4D5663\"}, \"zerolinecolor\": \"#E1E5ED\", \"showgrid\": true, \"title\": \"\"}, \"titlefont\": {\"color\": \"#4D5663\"}, \"title\": \"Number of Complaints by Date\"}, {\"showLink\": true, \"linkText\": \"Export to plot.ly\"})});</script>"
      ],
      "text/vnd.plotly.v1+html": [
       "<div id=\"aabbffaa-7406-4c7e-9d19-5d325742a726\" style=\"height: 525px; width: 100%;\" class=\"plotly-graph-div\"></div><script type=\"text/javascript\">require([\"plotly\"], function(Plotly) { window.PLOTLYENV=window.PLOTLYENV || {};window.PLOTLYENV.BASE_URL=\"https://plot.ly\";Plotly.newPlot(\"aabbffaa-7406-4c7e-9d19-5d325742a726\", [{\"type\": \"bar\", \"x\": [\"2017-04-20\", \"2016-09-01\", \"2016-05-02\", \"2017-06-09\", \"2016-08-02\", \"2016-06-03\", \"2016-07-21\", \"2015-12-01\", \"2016-01-22\", \"2016-06-10\", \"2016-04-04\", \"2017-04-24\", \"2016-03-15\", \"2016-01-04\", \"2015-12-02\", \"2016-01-05\", \"2016-03-01\", \"2016-03-25\", \"2016-07-15\", \"2016-02-05\", \"2016-02-04\", \"2016-03-14\", \"2016-04-14\", \"2017-06-06\", \"2017-05-22\", \"2017-05-11\", \"2015-12-29\", \"2016-07-19\", \"2016-02-09\", \"2016-01-07\", \"2017-05-03\", \"2016-08-05\", \"2016-04-13\", \"2016-03-23\", \"2017-04-04\", \"2017-05-02\", \"2017-02-08\", \"2017-03-15\", \"2016-09-06\", \"2016-07-27\", \"2017-05-01\", \"2016-05-03\", \"2017-03-28\", \"2016-07-22\", \"2016-08-19\", \"2016-04-28\", \"2016-02-15\", \"2016-03-21\", \"2016-10-03\", \"2015-12-08\", \"2016-01-28\", \"2017-06-20\", \"2016-07-29\", \"2016-07-11\", \"2016-01-15\", \"2016-05-18\", \"2016-02-16\", \"2016-02-10\", \"2016-09-28\", \"2016-07-28\", \"2017-05-09\", \"2017-06-14\", \"2016-06-21\", \"2017-04-18\", \"2016-05-10\", \"2015-12-22\", \"2017-03-02\", \"2017-02-03\", \"2016-03-30\", \"2016-12-20\", \"2016-06-20\", \"2016-04-19\", \"2016-12-15\", \"2015-12-31\", \"2017-03-16\", \"2016-01-12\", \"2016-10-27\", \"2016-07-18\", \"2016-05-16\", \"2016-11-22\", \"2017-01-23\", \"2016-05-27\", \"2016-04-12\", \"2017-03-13\", \"2016-11-09\", \"2016-01-20\", \"2017-04-28\", \"2017-06-08\", \"2015-12-30\", \"2016-11-10\", \"2017-05-31\", \"2016-11-07\", \"2016-01-19\", \"2016-05-23\", \"2016-03-04\", \"2017-05-16\", \"2016-09-13\", \"2017-03-07\", \"2017-06-01\", \"2016-06-01\", \"2016-10-21\", \"2017-01-18\", \"2017-04-17\", \"2017-06-12\", \"2016-08-29\", \"2015-12-04\", \"2016-09-29\", \"2016-05-11\", \"2016-01-18\", \"2017-03-27\", \"2016-05-05\", \"2016-01-08\", \"2016-11-18\", \"2017-06-26\", \"2016-08-08\", \"2017-02-10\", \"2017-04-13\", \"2017-06-15\", \"2017-04-14\", \"2016-03-09\", \"2017-05-29\", \"2016-09-22\", \"2016-11-23\", \"2016-08-23\", \"2017-02-02\", \"2016-05-25\", \"2017-05-15\", \"2017-01-11\", \"2016-06-22\", \"2016-01-26\", \"2017-05-26\", \"2016-06-15\", \"2016-02-29\", \"2016-06-16\", \"2017-06-22\", \"2017-04-05\", \"2017-01-04\", \"2017-05-23\", \"2016-03-29\", \"2016-02-01\", \"2016-12-30\", \"2016-06-27\", \"2017-04-10\", \"2016-02-18\", \"2016-10-12\", \"2016-08-22\", \"2017-03-30\", \"2015-12-07\", \"2017-06-28\", \"2016-09-26\", \"2016-06-17\", \"2015-12-03\", \"2016-12-09\", \"2015-12-14\", \"2015-12-17\", \"2017-03-03\", \"2016-03-22\", \"2017-05-10\", \"2016-03-16\", \"2017-01-26\", \"2016-10-05\", \"2017-06-21\", \"2017-02-14\", \"2016-10-13\", \"2016-08-10\", \"2016-08-31\", \"2016-08-03\", \"2017-01-20\", \"2016-01-25\", \"2017-01-27\", \"2016-11-02\", \"2017-04-27\", \"2016-04-01\", \"2015-12-28\", \"2017-02-07\", \"2016-03-17\", \"2017-03-06\", \"2016-03-11\", \"2017-02-06\", \"2017-04-19\", \"2016-11-03\", \"2016-09-23\", \"2016-05-12\", \"2016-06-09\", \"2016-07-13\", \"2017-01-31\", \"2016-04-07\", \"2016-07-06\", \"2016-06-08\", \"2016-03-28\", \"2016-02-12\", \"2017-06-05\", \"2017-03-31\", \"2016-08-16\", \"2016-12-18\", \"2015-12-23\", \"2016-11-30\", \"2016-07-08\", \"2016-09-20\", \"2016-03-03\", \"2016-12-02\", \"2016-04-15\", \"2017-03-08\", \"2016-03-18\", \"2016-05-19\", \"2016-09-16\", \"2016-02-02\", \"2016-06-29\", \"2016-12-08\", \"2016-05-09\", \"2016-03-08\", \"2016-03-07\", \"2016-08-24\", \"2016-04-22\", \"2017-01-24\", \"2016-08-12\", \"2016-09-21\", \"2016-08-18\", \"2017-04-06\", \"2016-04-27\", \"2016-06-28\", \"2016-05-31\", \"2016-11-16\", \"2017-02-17\", \"2016-09-15\", \"2016-05-04\", \"2016-08-25\", \"2016-01-21\", \"2016-06-13\", \"2016-05-24\", \"2016-12-13\", \"2016-02-24\", \"2016-10-29\", \"2017-04-22\", \"2016-01-10\", \"2017-04-25\", \"2017-05-21\", \"2017-01-16\", \"2016-07-20\", \"2016-04-08\", \"2017-02-13\", \"2016-12-12\", \"2016-10-11\", \"2017-06-11\", \"2017-03-10\", \"2016-02-25\", \"2017-03-29\", \"2017-04-21\", \"2016-01-27\", \"2017-02-24\", \"2016-07-25\", \"2016-08-17\", \"2016-01-11\", \"2015-12-13\", \"2016-05-14\", \"2016-04-25\", \"2016-04-26\", \"2016-05-06\", \"2017-03-01\", \"2016-09-14\", \"2016-05-13\", \"2017-02-01\", \"2016-12-01\", \"2016-09-30\", \"2016-02-19\", \"2017-05-19\", \"2016-04-21\", \"2016-11-14\", \"2017-05-25\", \"2016-10-24\", \"2016-06-04\", \"2016-09-19\", \"2016-07-26\", \"2017-01-28\", \"2015-12-27\", \"2016-08-04\", \"2017-04-26\", \"2015-12-16\", \"2016-01-29\", \"2015-12-15\", \"2017-04-11\", \"2017-04-07\", \"2017-05-12\", \"2016-06-18\", \"2016-10-20\", \"2016-04-06\", \"2016-06-07\", \"2017-02-22\", \"2016-12-22\", \"2016-12-27\", \"2016-12-05\", \"2016-11-17\", \"2017-02-27\", \"2016-06-02\", \"2016-11-12\", \"2017-03-22\", \"2017-01-19\", \"2016-01-24\", \"2016-09-17\", \"2017-05-17\", \"2015-12-10\", \"2016-01-13\", \"2017-01-02\", \"2016-04-29\", \"2017-03-17\", \"2016-08-09\", \"2017-02-23\", \"2016-06-14\", \"2017-01-17\", \"2016-08-01\", \"2016-12-06\", \"2017-02-16\", \"2017-05-24\", \"2016-01-17\", \"2016-05-20\", \"2016-02-03\", \"2016-04-05\", \"2016-06-06\", \"2017-02-09\", \"2017-04-12\", \"2016-06-23\", \"2016-10-31\", \"2017-04-03\", \"2016-10-25\", \"2017-06-30\", \"2016-09-12\", \"2016-09-27\", \"2016-03-10\", \"2016-11-28\", \"2017-06-02\", \"2017-06-17\", \"2016-04-11\", \"2017-02-15\", \"2017-05-30\", \"2016-09-08\"], \"y\": [12, 11, 11, 10, 10, 9, 9, 8, 8, 8, 8, 8, 8, 8, 8, 7, 7, 7, 7, 7, 6, 6, 6, 6, 6, 6, 6, 6, 6, 6, 6, 6, 6, 6, 6, 5, 5, 5, 5, 5, 5, 5, 5, 5, 5, 5, 5, 5, 5, 5, 5, 5, 5, 5, 5, 5, 5, 5, 5, 5, 5, 5, 5, 4, 4, 4, 4, 4, 4, 4, 4, 4, 4, 4, 4, 4, 4, 4, 4, 4, 4, 4, 4, 4, 4, 4, 4, 4, 4, 4, 4, 4, 4, 4, 4, 4, 4, 4, 4, 4, 4, 4, 4, 4, 4, 3, 3, 3, 3, 3, 3, 3, 3, 3, 3, 3, 3, 3, 3, 3, 3, 3, 3, 3, 3, 3, 3, 3, 3, 3, 3, 3, 3, 3, 3, 3, 3, 3, 3, 3, 3, 3, 3, 3, 3, 3, 3, 3, 3, 3, 3, 3, 3, 3, 3, 3, 3, 3, 3, 3, 3, 3, 3, 3, 3, 2, 2, 2, 2, 2, 2, 2, 2, 2, 2, 2, 2, 2, 2, 2, 2, 2, 2, 2, 2, 2, 2, 2, 2, 2, 2, 2, 2, 2, 2, 2, 2, 2, 2, 2, 2, 2, 2, 2, 2, 2, 2, 2, 2, 2, 2, 2, 2, 2, 2, 2, 2, 2, 2, 2, 2, 2, 2, 2, 2, 2, 2, 2, 2, 2, 2, 2, 2, 2, 2, 2, 2, 2, 1, 1, 1, 1, 1, 1, 1, 1, 1, 1, 1, 1, 1, 1, 1, 1, 1, 1, 1, 1, 1, 1, 1, 1, 1, 1, 1, 1, 1, 1, 1, 1, 1, 1, 1, 1, 1, 1, 1, 1, 1, 1, 1, 1, 1, 1, 1, 1, 1, 1, 1, 1, 1, 1, 1, 1, 1, 1, 1, 1, 1, 1, 1, 1, 1, 1, 1, 1, 1, 1, 1, 1, 1, 1, 1, 1, 1, 1, 1, 1, 1, 1, 1, 1, 1, 1, 1, 1, 1, 1, 1, 1, 1, 1, 1, 1, 1], \"name\": \"Initial Receipt Date\", \"text\": \"\", \"marker\": {\"color\": \"rgba(255, 153, 51, 0.6)\", \"line\": {\"color\": \"rgba(255, 153, 51, 1.0)\", \"width\": 1}}, \"orientation\": \"v\"}], {\"legend\": {\"bgcolor\": \"#F5F6F9\", \"font\": {\"color\": \"#4D5663\"}}, \"paper_bgcolor\": \"#F5F6F9\", \"plot_bgcolor\": \"#F5F6F9\", \"yaxis1\": {\"tickfont\": {\"color\": \"#4D5663\"}, \"gridcolor\": \"#E1E5ED\", \"titlefont\": {\"color\": \"#4D5663\"}, \"zerolinecolor\": \"#E1E5ED\", \"showgrid\": true, \"title\": \"Count\"}, \"xaxis1\": {\"tickfont\": {\"color\": \"#4D5663\"}, \"gridcolor\": \"#E1E5ED\", \"titlefont\": {\"color\": \"#4D5663\"}, \"zerolinecolor\": \"#E1E5ED\", \"showgrid\": true, \"title\": \"\"}, \"titlefont\": {\"color\": \"#4D5663\"}, \"title\": \"Number of Complaints by Date\"}, {\"showLink\": true, \"linkText\": \"Export to plot.ly\"})});</script>"
      ]
     },
     "metadata": {},
     "output_type": "display_data"
    }
   ],
   "source": [
    "df['Initial Receipt Date'].value_counts().iplot(kind='bar', yTitle='Count', title='Number of Complaints by Date')"
   ]
  },
  {
   "cell_type": "code",
   "execution_count": 165,
   "metadata": {},
   "outputs": [],
   "source": [
    "# df.head(5)"
   ]
  },
  {
   "cell_type": "code",
   "execution_count": 95,
   "metadata": {},
   "outputs": [
    {
     "data": {
      "text/html": [
       "<div>\n",
       "<style>\n",
       "    .dataframe thead tr:only-child th {\n",
       "        text-align: right;\n",
       "    }\n",
       "\n",
       "    .dataframe thead th {\n",
       "        text-align: left;\n",
       "    }\n",
       "\n",
       "    .dataframe tbody tr th {\n",
       "        vertical-align: top;\n",
       "    }\n",
       "</style>\n",
       "<table border=\"1\" class=\"dataframe\">\n",
       "  <thead>\n",
       "    <tr style=\"text-align: right;\">\n",
       "      <th></th>\n",
       "      <th>Initial Receipt Date</th>\n",
       "      <th>Case Contact Method</th>\n",
       "      <th>Summary</th>\n",
       "      <th>Case Country</th>\n",
       "      <th>Category</th>\n",
       "      <th>Segment</th>\n",
       "      <th>Flavor Scent Detail</th>\n",
       "      <th>Consumer Benefit 1</th>\n",
       "      <th>Consumer Benefit 2</th>\n",
       "      <th>Consumer Benefit 3</th>\n",
       "      <th>...</th>\n",
       "      <th>Global Comment Path</th>\n",
       "      <th>L1 Comment Code/Comment Type</th>\n",
       "      <th>L2 Comment Code/Comment Category</th>\n",
       "      <th>L3 Comment Code/Comment Description</th>\n",
       "      <th>Comment Criticality</th>\n",
       "      <th>Conclusion Code</th>\n",
       "      <th>Store of Purchase</th>\n",
       "      <th>Complaint Metric</th>\n",
       "      <th>month</th>\n",
       "      <th>year</th>\n",
       "    </tr>\n",
       "  </thead>\n",
       "  <tbody>\n",
       "    <tr>\n",
       "      <th>0</th>\n",
       "      <td>2015-12-01</td>\n",
       "      <td>Phone</td>\n",
       "      <td>I bought a bottle of the Mr Clean Magic Eraser...</td>\n",
       "      <td>UNITED STATES</td>\n",
       "      <td>Surface Care</td>\n",
       "      <td>Cleaning Products</td>\n",
       "      <td>Apple Berry Twist</td>\n",
       "      <td>All Purpose</td>\n",
       "      <td>Regular</td>\n",
       "      <td>Regular</td>\n",
       "      <td>...</td>\n",
       "      <td>Product Quality Complaint/Sensory attributes/F...</td>\n",
       "      <td>Product Quality Complaint</td>\n",
       "      <td>Sensory attributes</td>\n",
       "      <td>Feel, texture, consistency; too thin, watery</td>\n",
       "      <td>Non-Critical</td>\n",
       "      <td>NaN</td>\n",
       "      <td>Walmart</td>\n",
       "      <td>1</td>\n",
       "      <td>12</td>\n",
       "      <td>2015</td>\n",
       "    </tr>\n",
       "    <tr>\n",
       "      <th>1</th>\n",
       "      <td>2015-12-01</td>\n",
       "      <td>Phone</td>\n",
       "      <td>I recently bought two bottles of the Mr. Clean...</td>\n",
       "      <td>UNITED STATES</td>\n",
       "      <td>Surface Care</td>\n",
       "      <td>Cleaning Products</td>\n",
       "      <td>Meadows &amp; Rain</td>\n",
       "      <td>All Purpose</td>\n",
       "      <td>Regular</td>\n",
       "      <td>Regular</td>\n",
       "      <td>...</td>\n",
       "      <td>Product Quality Complaint/Sensory attributes/S...</td>\n",
       "      <td>Product Quality Complaint</td>\n",
       "      <td>Sensory attributes</td>\n",
       "      <td>Smell, scent, aroma, odor</td>\n",
       "      <td>Non-Critical</td>\n",
       "      <td>Incorrect data input at intake, data corrected</td>\n",
       "      <td>Family Dollar</td>\n",
       "      <td>1</td>\n",
       "      <td>12</td>\n",
       "      <td>2015</td>\n",
       "    </tr>\n",
       "    <tr>\n",
       "      <th>2</th>\n",
       "      <td>2015-12-01</td>\n",
       "      <td>Phone</td>\n",
       "      <td>I called 2 and a half months ago about 6 bottl...</td>\n",
       "      <td>UNITED STATES</td>\n",
       "      <td>Surface Care</td>\n",
       "      <td>Cleaning Products</td>\n",
       "      <td>Meadows &amp; Rain</td>\n",
       "      <td>All Purpose</td>\n",
       "      <td>Regular</td>\n",
       "      <td>Regular</td>\n",
       "      <td>...</td>\n",
       "      <td>Product Quality Complaint/Sensory attributes/S...</td>\n",
       "      <td>Product Quality Complaint</td>\n",
       "      <td>Sensory attributes</td>\n",
       "      <td>Smell, scent, aroma, odor</td>\n",
       "      <td>Non-Critical</td>\n",
       "      <td>NaN</td>\n",
       "      <td>Sams Club</td>\n",
       "      <td>1</td>\n",
       "      <td>12</td>\n",
       "      <td>2015</td>\n",
       "    </tr>\n",
       "    <tr>\n",
       "      <th>3</th>\n",
       "      <td>2015-12-01</td>\n",
       "      <td>Phone</td>\n",
       "      <td>I have a bottle of the Mr Clean Multipurpose L...</td>\n",
       "      <td>CANADA</td>\n",
       "      <td>Surface Care</td>\n",
       "      <td>Cleaning Products</td>\n",
       "      <td>Summer Citrus</td>\n",
       "      <td>All Purpose</td>\n",
       "      <td>Anti-Bacterial</td>\n",
       "      <td>Regular</td>\n",
       "      <td>...</td>\n",
       "      <td>Product Quality Complaint/Sensory attributes/F...</td>\n",
       "      <td>Product Quality Complaint</td>\n",
       "      <td>Sensory attributes</td>\n",
       "      <td>Feel, texture, consistency</td>\n",
       "      <td>Non-Critical</td>\n",
       "      <td>NaN</td>\n",
       "      <td>Walmart</td>\n",
       "      <td>1</td>\n",
       "      <td>12</td>\n",
       "      <td>2015</td>\n",
       "    </tr>\n",
       "    <tr>\n",
       "      <th>4</th>\n",
       "      <td>2015-12-01</td>\n",
       "      <td>Phone</td>\n",
       "      <td>I bought the Mr. Clean Multi-Purpose and the M...</td>\n",
       "      <td>UNITED STATES</td>\n",
       "      <td>Surface Care</td>\n",
       "      <td>Cleaning Products</td>\n",
       "      <td>Meadows &amp; Rain</td>\n",
       "      <td>All Purpose</td>\n",
       "      <td>Regular</td>\n",
       "      <td>Regular</td>\n",
       "      <td>...</td>\n",
       "      <td>Product Quality Complaint/Dissatisfied with pe...</td>\n",
       "      <td>Product Quality Complaint</td>\n",
       "      <td>Dissatisfied with performance</td>\n",
       "      <td>Suds</td>\n",
       "      <td>Non-Critical</td>\n",
       "      <td>NaN</td>\n",
       "      <td>Home Depot</td>\n",
       "      <td>1</td>\n",
       "      <td>12</td>\n",
       "      <td>2015</td>\n",
       "    </tr>\n",
       "  </tbody>\n",
       "</table>\n",
       "<p>5 rows × 26 columns</p>\n",
       "</div>"
      ],
      "text/plain": [
       "  Initial Receipt Date Case Contact Method  \\\n",
       "0           2015-12-01               Phone   \n",
       "1           2015-12-01               Phone   \n",
       "2           2015-12-01               Phone   \n",
       "3           2015-12-01               Phone   \n",
       "4           2015-12-01               Phone   \n",
       "\n",
       "                                             Summary   Case Country  \\\n",
       "0  I bought a bottle of the Mr Clean Magic Eraser...  UNITED STATES   \n",
       "1  I recently bought two bottles of the Mr. Clean...  UNITED STATES   \n",
       "2  I called 2 and a half months ago about 6 bottl...  UNITED STATES   \n",
       "3  I have a bottle of the Mr Clean Multipurpose L...         CANADA   \n",
       "4  I bought the Mr. Clean Multi-Purpose and the M...  UNITED STATES   \n",
       "\n",
       "       Category            Segment Flavor Scent Detail Consumer Benefit 1  \\\n",
       "0  Surface Care  Cleaning Products   Apple Berry Twist        All Purpose   \n",
       "1  Surface Care  Cleaning Products      Meadows & Rain        All Purpose   \n",
       "2  Surface Care  Cleaning Products      Meadows & Rain        All Purpose   \n",
       "3  Surface Care  Cleaning Products       Summer Citrus        All Purpose   \n",
       "4  Surface Care  Cleaning Products      Meadows & Rain        All Purpose   \n",
       "\n",
       "  Consumer Benefit 2 Consumer Benefit 3  ...   \\\n",
       "0            Regular            Regular  ...    \n",
       "1            Regular            Regular  ...    \n",
       "2            Regular            Regular  ...    \n",
       "3     Anti-Bacterial            Regular  ...    \n",
       "4            Regular            Regular  ...    \n",
       "\n",
       "                                 Global Comment Path  \\\n",
       "0  Product Quality Complaint/Sensory attributes/F...   \n",
       "1  Product Quality Complaint/Sensory attributes/S...   \n",
       "2  Product Quality Complaint/Sensory attributes/S...   \n",
       "3  Product Quality Complaint/Sensory attributes/F...   \n",
       "4  Product Quality Complaint/Dissatisfied with pe...   \n",
       "\n",
       "  L1 Comment Code/Comment Type L2 Comment Code/Comment Category  \\\n",
       "0    Product Quality Complaint               Sensory attributes   \n",
       "1    Product Quality Complaint               Sensory attributes   \n",
       "2    Product Quality Complaint               Sensory attributes   \n",
       "3    Product Quality Complaint               Sensory attributes   \n",
       "4    Product Quality Complaint    Dissatisfied with performance   \n",
       "\n",
       "            L3 Comment Code/Comment Description Comment Criticality  \\\n",
       "0  Feel, texture, consistency; too thin, watery        Non-Critical   \n",
       "1                     Smell, scent, aroma, odor        Non-Critical   \n",
       "2                     Smell, scent, aroma, odor        Non-Critical   \n",
       "3                    Feel, texture, consistency        Non-Critical   \n",
       "4                                          Suds        Non-Critical   \n",
       "\n",
       "                                  Conclusion Code Store of Purchase  \\\n",
       "0                                             NaN           Walmart   \n",
       "1  Incorrect data input at intake, data corrected     Family Dollar   \n",
       "2                                             NaN         Sams Club   \n",
       "3                                             NaN           Walmart   \n",
       "4                                             NaN        Home Depot   \n",
       "\n",
       "  Complaint Metric month  year  \n",
       "0                1    12  2015  \n",
       "1                1    12  2015  \n",
       "2                1    12  2015  \n",
       "3                1    12  2015  \n",
       "4                1    12  2015  \n",
       "\n",
       "[5 rows x 26 columns]"
      ]
     },
     "execution_count": 95,
     "metadata": {},
     "output_type": "execute_result"
    }
   ],
   "source": [
    "df['month'] = df['Initial Receipt Date'].dt.month\n",
    "df['year'] = df['Initial Receipt Date'].dt.year\n",
    "df.head(5)"
   ]
  },
  {
   "cell_type": "code",
   "execution_count": 159,
   "metadata": {},
   "outputs": [],
   "source": [
    "# df.groupby(['year', 'month']).count()"
   ]
  },
  {
   "cell_type": "code",
   "execution_count": 157,
   "metadata": {},
   "outputs": [],
   "source": [
    "# test = df.groupby(['year'])['month'].value_counts()\n",
    "# test.head()"
   ]
  },
  {
   "cell_type": "code",
   "execution_count": 156,
   "metadata": {},
   "outputs": [],
   "source": [
    "# test.plot.bar()"
   ]
  },
  {
   "cell_type": "code",
   "execution_count": 158,
   "metadata": {},
   "outputs": [
    {
     "data": {
      "text/html": [
       "<div>\n",
       "<style>\n",
       "    .dataframe thead tr:only-child th {\n",
       "        text-align: right;\n",
       "    }\n",
       "\n",
       "    .dataframe thead th {\n",
       "        text-align: left;\n",
       "    }\n",
       "\n",
       "    .dataframe tbody tr th {\n",
       "        vertical-align: top;\n",
       "    }\n",
       "</style>\n",
       "<table border=\"1\" class=\"dataframe\">\n",
       "  <thead>\n",
       "    <tr style=\"text-align: right;\">\n",
       "      <th></th>\n",
       "      <th>year</th>\n",
       "      <th>month</th>\n",
       "      <th>count</th>\n",
       "    </tr>\n",
       "  </thead>\n",
       "  <tbody>\n",
       "    <tr>\n",
       "      <th>0</th>\n",
       "      <td>2015</td>\n",
       "      <td>12</td>\n",
       "      <td>63</td>\n",
       "    </tr>\n",
       "    <tr>\n",
       "      <th>1</th>\n",
       "      <td>2016</td>\n",
       "      <td>1</td>\n",
       "      <td>72</td>\n",
       "    </tr>\n",
       "    <tr>\n",
       "      <th>2</th>\n",
       "      <td>2016</td>\n",
       "      <td>2</td>\n",
       "      <td>52</td>\n",
       "    </tr>\n",
       "    <tr>\n",
       "      <th>3</th>\n",
       "      <td>2016</td>\n",
       "      <td>3</td>\n",
       "      <td>74</td>\n",
       "    </tr>\n",
       "    <tr>\n",
       "      <th>4</th>\n",
       "      <td>2016</td>\n",
       "      <td>4</td>\n",
       "      <td>51</td>\n",
       "    </tr>\n",
       "  </tbody>\n",
       "</table>\n",
       "</div>"
      ],
      "text/plain": [
       "   year  month  count\n",
       "0  2015     12     63\n",
       "1  2016      1     72\n",
       "2  2016      2     52\n",
       "3  2016      3     74\n",
       "4  2016      4     51"
      ]
     },
     "execution_count": 158,
     "metadata": {},
     "output_type": "execute_result"
    }
   ],
   "source": [
    "new = pd.DataFrame({'count' : df.groupby([ \"year\", \"month\"]).size()}).reset_index()\n",
    "new.head()"
   ]
  },
  {
   "cell_type": "code",
   "execution_count": 154,
   "metadata": {},
   "outputs": [],
   "source": [
    "# x = new['month']\n",
    "# y = new['count']\n",
    "\n",
    "# data = [go.Bar(\n",
    "#     x=x,\n",
    "#     y=y,\n",
    "#     marker=dict(\n",
    "#         color='rgb(158,202,225)',\n",
    "#         line=dict(\n",
    "#             color='rgb(8,48,107)',\n",
    "#             width=1.5),\n",
    "#     ),\n",
    "#     opacity=0.6\n",
    "# )]\n",
    "\n",
    "# fig = go.Figure(data=data)\n",
    "# py.iplot(fig,filename='monthcounts')"
   ]
  },
  {
   "cell_type": "code",
   "execution_count": 164,
   "metadata": {},
   "outputs": [
    {
     "data": {
      "application/vnd.plotly.v1+json": {
       "data": [
        {
         "marker": {
          "color": "#99badd"
         },
         "name": "Months",
         "type": "bar",
         "x": [
          "Dec 2015",
          "Jan 2016",
          "Feb 2016",
          "Mar 2016",
          "Apr 2016",
          "May 2016",
          "Jun 2016",
          "Jul 2016",
          "Aug 2016",
          "Sep 2016",
          "Oct 2016",
          "Nov 2016",
          "Dec 2016",
          "Jan 2017",
          "Feb 2017",
          "Mar 2017",
          "Apr 2017",
          "May 2017",
          "Jun 2017"
         ],
         "y": [
          63,
          72,
          52,
          74,
          51,
          62,
          62,
          60,
          55,
          51,
          29,
          34,
          28,
          31,
          33,
          46,
          66,
          64,
          59
         ]
        }
       ],
       "layout": {
        "barmode": "group",
        "xaxis": {
         "tickangle": -45
        }
       }
      },
      "text/html": [
       "<div id=\"84549741-c786-4abd-8006-54ee1be03d9d\" style=\"height: 525px; width: 100%;\" class=\"plotly-graph-div\"></div><script type=\"text/javascript\">require([\"plotly\"], function(Plotly) { window.PLOTLYENV=window.PLOTLYENV || {};window.PLOTLYENV.BASE_URL=\"https://plot.ly\";Plotly.newPlot(\"84549741-c786-4abd-8006-54ee1be03d9d\", [{\"type\": \"bar\", \"x\": [\"Dec 2015\", \"Jan 2016\", \"Feb 2016\", \"Mar 2016\", \"Apr 2016\", \"May 2016\", \"Jun 2016\", \"Jul 2016\", \"Aug 2016\", \"Sep 2016\", \"Oct 2016\", \"Nov 2016\", \"Dec 2016\", \"Jan 2017\", \"Feb 2017\", \"Mar 2017\", \"Apr 2017\", \"May 2017\", \"Jun 2017\"], \"y\": [63, 72, 52, 74, 51, 62, 62, 60, 55, 51, 29, 34, 28, 31, 33, 46, 66, 64, 59], \"name\": \"Months\", \"marker\": {\"color\": \"#99badd\"}}], {\"xaxis\": {\"tickangle\": -45}, \"barmode\": \"group\"}, {\"showLink\": true, \"linkText\": \"Export to plot.ly\"})});</script>"
      ],
      "text/vnd.plotly.v1+html": [
       "<div id=\"84549741-c786-4abd-8006-54ee1be03d9d\" style=\"height: 525px; width: 100%;\" class=\"plotly-graph-div\"></div><script type=\"text/javascript\">require([\"plotly\"], function(Plotly) { window.PLOTLYENV=window.PLOTLYENV || {};window.PLOTLYENV.BASE_URL=\"https://plot.ly\";Plotly.newPlot(\"84549741-c786-4abd-8006-54ee1be03d9d\", [{\"type\": \"bar\", \"x\": [\"Dec 2015\", \"Jan 2016\", \"Feb 2016\", \"Mar 2016\", \"Apr 2016\", \"May 2016\", \"Jun 2016\", \"Jul 2016\", \"Aug 2016\", \"Sep 2016\", \"Oct 2016\", \"Nov 2016\", \"Dec 2016\", \"Jan 2017\", \"Feb 2017\", \"Mar 2017\", \"Apr 2017\", \"May 2017\", \"Jun 2017\"], \"y\": [63, 72, 52, 74, 51, 62, 62, 60, 55, 51, 29, 34, 28, 31, 33, 46, 66, 64, 59], \"name\": \"Months\", \"marker\": {\"color\": \"#99badd\"}}], {\"xaxis\": {\"tickangle\": -45}, \"barmode\": \"group\"}, {\"showLink\": true, \"linkText\": \"Export to plot.ly\"})});</script>"
      ]
     },
     "metadata": {},
     "output_type": "display_data"
    }
   ],
   "source": [
    "trace0 = go.Bar(\n",
    "    x=['Dec 2015','Jan 2016', 'Feb 2016', 'Mar 2016', 'Apr 2016', 'May 2016', 'Jun 2016',\n",
    "       'Jul 2016', 'Aug 2016', 'Sep 2016', 'Oct 2016', 'Nov 2016', 'Dec 2016','Jan 2017', \n",
    "       'Feb 2017', 'Mar 2017', 'Apr 2017', 'May 2017', 'Jun 2017'],\n",
    "    y=new['count'],\n",
    "    name='Months',\n",
    "    marker=dict(\n",
    "        color='#99badd'\n",
    "    )\n",
    ")\n",
    "\n",
    "data = [trace0]\n",
    "layout = go.Layout(\n",
    "    xaxis=dict(tickangle=-45),\n",
    "    barmode='group',\n",
    ")\n",
    "\n",
    "fig = go.Figure(data=data, layout=layout)\n",
    "py.iplot(fig, filename='angled-text-bar')"
   ]
  },
  {
   "cell_type": "code",
   "execution_count": 221,
   "metadata": {},
   "outputs": [],
   "source": [
    "# new['count'].iplot(kind='bar', yTitle='Count', title='Complaints by Month')"
   ]
  },
  {
   "cell_type": "code",
   "execution_count": 219,
   "metadata": {},
   "outputs": [],
   "source": [
    "#Templates\n",
    "# df['Unit Size'].unique()\n",
    "# df.drop('Product Form Detail',1,inplace=True)"
   ]
  },
  {
   "cell_type": "code",
   "execution_count": null,
   "metadata": {
    "collapsed": true
   },
   "outputs": [],
   "source": [
    "#Haven't used these\n",
    "#df.apply( lambda x: len(x[-x.isnull()].unique()) == 1 , axis = 1).all()\n",
    "#df.groupby('Case Contact Method').count()"
   ]
  },
  {
   "cell_type": "code",
   "execution_count": null,
   "metadata": {
    "collapsed": true
   },
   "outputs": [],
   "source": []
  }
 ],
 "metadata": {
  "kernelspec": {
   "display_name": "Python 3",
   "language": "python",
   "name": "python3"
  },
  "language_info": {
   "codemirror_mode": {
    "name": "ipython",
    "version": 3
   },
   "file_extension": ".py",
   "mimetype": "text/x-python",
   "name": "python",
   "nbconvert_exporter": "python",
   "pygments_lexer": "ipython3",
   "version": "3.6.1"
  }
 },
 "nbformat": 4,
 "nbformat_minor": 2
}
